{
 "cells": [
  {
   "cell_type": "code",
   "execution_count": 1,
   "metadata": {},
   "outputs": [],
   "source": [
    "import numpy as np  # type: ignore\n",
    "import random  # type: ignore\n",
    "import matplotlib.pyplot as plt  # type: ignore"
   ]
  },
  {
   "cell_type": "markdown",
   "metadata": {},
   "source": [
    "##### Global parameters of the system: "
   ]
  },
  {
   "cell_type": "code",
   "execution_count": 2,
   "metadata": {},
   "outputs": [],
   "source": [
    "A = 300  # Atomic weight of targilium\n",
    "N_avogadro = 0.6e24\n",
    "sigma = 10e-24\n",
    "\n",
    "max_students = 10000\n",
    "max_experiments = 100"
   ]
  },
  {
   "cell_type": "markdown",
   "metadata": {},
   "source": [
    "---"
   ]
  },
  {
   "cell_type": "code",
   "execution_count": 3,
   "metadata": {},
   "outputs": [],
   "source": [
    "class Student:\n",
    "    def __init__(self, x=0, y=0, z=0) -> None:\n",
    "        self.x = x\n",
    "        self.y = y\n",
    "        self.z = z\n",
    "        self.dx = 0\n",
    "        self.dy = 0\n",
    "        self.dz = 0\n",
    "\n",
    "    def set_direction(self):\n",
    "        while True:\n",
    "            x = random.uniform(-1, 1)\n",
    "            y = random.uniform(-1, 1)\n",
    "            z = random.uniform(-1, 1)\n",
    "\n",
    "            if np.sqrt(x**2 + y**2 + z**2) > 1:\n",
    "                magnitude = np.sqrt(x**2 + y**2 + z**2)\n",
    "                self.dx = x / magnitude\n",
    "                self.dy = y / magnitude\n",
    "                self.dz = z / magnitude\n",
    "                break\n",
    "        return np.array([self.dx, self.dy, self.dz])\n",
    "\n",
    "    def set_distance(self, rho):\n",
    "        rho0 = (N_avogadro * rho)/A\n",
    "        l_bar = 1/(rho0 * sigma)\n",
    "        dist = -l_bar * np.log(1 - random.uniform(0, 1))\n",
    "        return dist\n",
    "\n",
    "    def move(self, rho):\n",
    "        direction = self.set_direction()\n",
    "        distance = self.set_distance(rho)\n",
    "        self.x += direction[0] * distance\n",
    "        self.y += direction[1] * distance\n",
    "        self.z += direction[2] * distance\n",
    "        return (self.x, self.y, self.z)\n",
    "\n",
    "    def interaction(self, radius, p0, p1):\n",
    "        if np.sqrt(self.x**2 + self.y**2 + self.z ** 2) > radius:\n",
    "            return 0\n",
    "        else:\n",
    "            p = random.random()\n",
    "            if (p < p0):\n",
    "                return 0\n",
    "            elif (p < p0+p1):\n",
    "                return 1\n",
    "            else:\n",
    "                return 2"
   ]
  },
  {
   "cell_type": "markdown",
   "metadata": {},
   "source": [
    "Function for calculating the result of one experiment: "
   ]
  },
  {
   "cell_type": "code",
   "execution_count": 4,
   "metadata": {},
   "outputs": [],
   "source": [
    "def experiment(radius, rho, p0, p1):\n",
    "    students = []\n",
    "    s = Student()\n",
    "    students.append(s)\n",
    "    s.set_direction()\n",
    "    while True:\n",
    "        if (len(students) >= 10000):\n",
    "            return 1\n",
    "        if (len(students) <= 0):\n",
    "            return 0\n",
    "        st = students[0]\n",
    "        x_orig, y_orig, z_orig = st.move(rho)\n",
    "        int_result = st.interaction(radius, p0, p1)\n",
    "        if (int_result == 0):\n",
    "            students.pop(0)\n",
    "        elif (int_result == 1):\n",
    "            st.set_direction()\n",
    "        elif (int_result == 2):\n",
    "            students.pop(0)\n",
    "            st1 = Student(x_orig, y_orig, z_orig)\n",
    "            st1.set_direction()\n",
    "            students.append(st1)\n",
    "            st2 = Student(x_orig, y_orig, z_orig)\n",
    "            st2.set_direction()\n",
    "            students.append(st2)"
   ]
  },
  {
   "cell_type": "markdown",
   "metadata": {},
   "source": [
    "Function for checking 100 experiments:"
   ]
  },
  {
   "cell_type": "code",
   "execution_count": 5,
   "metadata": {},
   "outputs": [],
   "source": [
    "def check_criticality(radius, rho, p0, p1):\n",
    "    for _ in range(100):\n",
    "        res = experiment(radius, rho, p0, p1)\n",
    "        if (res == 1):\n",
    "            return 1\n",
    "    return 0"
   ]
  },
  {
   "cell_type": "markdown",
   "metadata": {},
   "source": [
    "Main function, calculating the radius using the given algorithm: "
   ]
  },
  {
   "cell_type": "code",
   "execution_count": 6,
   "metadata": {},
   "outputs": [],
   "source": [
    "def calculate_radius(rho, p0, p1, print_flag, radius=5):\n",
    "    i = 0\n",
    "    while True:\n",
    "        i += 1\n",
    "        state1 = check_criticality(radius, rho, p0, p1)\n",
    "        if state1 == 1:\n",
    "            radius *= 0.9\n",
    "        else:\n",
    "            radius *= 1.1\n",
    "        r_prev = radius\n",
    "        state2 = check_criticality(radius, rho, p0, p1)\n",
    "        if state2 == 1:\n",
    "            radius *= 0.9\n",
    "        else:\n",
    "            radius *= 1.1\n",
    "        r_next = radius\n",
    "        if state1 != state2:\n",
    "            res_r = (r_prev + r_next)/2\n",
    "            mass = rho * (4/3) * np.pi * res_r**3\n",
    "            if print_flag:\n",
    "                print(\n",
    "                    f\"The critical radius: R={res_r:.3f} [cm] with mass: m={mass:.3f} [g]; converged within {i} iterations.\")\n",
    "            return mass"
   ]
  },
  {
   "cell_type": "markdown",
   "metadata": {},
   "source": [
    "---"
   ]
  },
  {
   "cell_type": "markdown",
   "metadata": {},
   "source": [
    "### Remark:\n",
    "You can see that below I used some values as the initial radius - I got them after calculating with static initial radius (10) for a long time (runtimes of up to 10 minutes), and for code to converge faster (and to run faster) I provided them as inputs. So these are not random but pre-calculated numerically. Also, because of this the iterations counter will be off (it will show 1 in most cases although some of them were calculated in up to 6-7 iterations)."
   ]
  },
  {
   "cell_type": "markdown",
   "metadata": {},
   "source": [
    "---"
   ]
  },
  {
   "cell_type": "markdown",
   "metadata": {},
   "source": [
    "### Part 1"
   ]
  },
  {
   "cell_type": "code",
   "execution_count": 7,
   "metadata": {},
   "outputs": [
    {
     "name": "stdout",
     "output_type": "stream",
     "text": [
      "The critical radius: R=8.360 [cm] with mass: m=73422.420 [g]; converged within 1 iterations.\n"
     ]
    },
    {
     "data": {
      "text/plain": [
       "73422.42027162692"
      ]
     },
     "execution_count": 7,
     "metadata": {},
     "output_type": "execute_result"
    }
   ],
   "source": [
    "rho = 30  # Density in g/cm^3\n",
    "p0 = 0.2  # Probability of ingestion\n",
    "p1 = 0.5  # Probability of dispersion\n",
    "p2 = 0.3  # Probability of fission\n",
    "\n",
    "calculate_radius(rho, p0, p1, 1, 8)"
   ]
  },
  {
   "cell_type": "markdown",
   "metadata": {},
   "source": [
    "---"
   ]
  },
  {
   "cell_type": "markdown",
   "metadata": {},
   "source": [
    "### Part 2: "
   ]
  },
  {
   "cell_type": "markdown",
   "metadata": {},
   "source": [
    "Values: "
   ]
  },
  {
   "cell_type": "code",
   "execution_count": 8,
   "metadata": {},
   "outputs": [
    {
     "name": "stdout",
     "output_type": "stream",
     "text": [
      "Rho = 10 [g/cm^3]:\n",
      "The critical radius: R=25.080 [cm] with mass: m=660801.782 [g]; converged within 1 iterations.\n",
      "Rho = 20 [g/cm^3]:\n",
      "The critical radius: R=12.540 [cm] with mass: m=165200.446 [g]; converged within 1 iterations.\n",
      "Rho = 30 [g/cm^3]:\n",
      "The critical radius: R=8.360 [cm] with mass: m=73422.420 [g]; converged within 1 iterations.\n",
      "Rho = 40 [g/cm^3]:\n",
      "The critical radius: R=6.270 [cm] with mass: m=41300.111 [g]; converged within 1 iterations.\n",
      "Rho = 50 [g/cm^3]:\n",
      "The critical radius: R=5.058 [cm] with mass: m=27098.395 [g]; converged within 2 iterations.\n",
      "Rho = 60 [g/cm^3]:\n",
      "The critical radius: R=4.180 [cm] with mass: m=18355.605 [g]; converged within 1 iterations.\n",
      "Rho = 70 [g/cm^3]:\n",
      "The critical radius: R=3.308 [cm] with mass: m=10609.287 [g]; converged within 1 iterations.\n",
      "Rho = 80 [g/cm^3]:\n",
      "The critical radius: R=3.135 [cm] with mass: m=10325.028 [g]; converged within 1 iterations.\n",
      "Rho = 90 [g/cm^3]:\n",
      "The critical radius: R=2.835 [cm] with mass: m=8589.944 [g]; converged within 1 iterations.\n",
      "Rho = 100 [g/cm^3]:\n",
      "The critical radius: R=2.362 [cm] with mass: m=5523.369 [g]; converged within 1 iterations.\n"
     ]
    }
   ],
   "source": [
    "rho_array = [10, 20, 30, 40, 50, 60, 70, 80, 90, 100]  # Density in g/cm^3\n",
    "initial_radiuses = [24, 12, 8, 6, 4, 4, 3.5, 3, 3, 2.5]\n",
    "mass_array = np.zeros_like(rho_array)\n",
    "p0 = 0.2  # Probability of ingestion\n",
    "p1 = 0.5  # Probability of dispersion\n",
    "p2 = 0.3  # Probability of fission\n",
    "\n",
    "for i, rho in enumerate(rho_array):\n",
    "    print(f\"Rho = {rho} [g/cm^3]:\")\n",
    "    mass_array[i] = calculate_radius(rho, p0, p1, 1, initial_radiuses[i])"
   ]
  },
  {
   "cell_type": "markdown",
   "metadata": {},
   "source": [
    "Plot:"
   ]
  },
  {
   "cell_type": "code",
   "execution_count": 9,
   "metadata": {},
   "outputs": [
    {
     "data": {
      "image/png": "[encoded data removed]",
      "text/plain": [
       "<Figure size 1000x600 with 1 Axes>"
      ]
     },
     "metadata": {},
     "output_type": "display_data"
    }
   ],
   "source": [
    "plt.figure(figsize=(10, 6))\n",
    "plt.plot(rho_array, mass_array,\n",
    "         marker='o', linestyle='-', color='g')\n",
    "plt.title('Critical Mass vs. Density')\n",
    "plt.xlabel('Density [g/cm^3]')\n",
    "plt.ylabel('Critical Mass [g]')\n",
    "plt.grid(True)\n",
    "\n",
    "plt.show()"
   ]
  },
  {
   "cell_type": "markdown",
   "metadata": {},
   "source": [
    "---"
   ]
  },
  {
   "cell_type": "markdown",
   "metadata": {},
   "source": [
    "### Part 3: "
   ]
  },
  {
   "cell_type": "markdown",
   "metadata": {},
   "source": [
    "Values: "
   ]
  },
  {
   "cell_type": "code",
   "execution_count": 10,
   "metadata": {},
   "outputs": [
    {
     "name": "stdout",
     "output_type": "stream",
     "text": [
      "p0=0.1, p1 = 0.75, p2 = 0.15:\n",
      "The critical radius: R=12.540 [cm] with mass: m=247800.668 [g]; converged within 1 iterations.\n",
      "p0=0.1, p1 = 0.7, p2 = 0.2:\n",
      "The critical radius: R=8.360 [cm] with mass: m=73422.420 [g]; converged within 1 iterations.\n",
      "p0=0.1, p1 = 0.65, p2 = 0.25:\n",
      "The critical radius: R=6.270 [cm] with mass: m=30975.084 [g]; converged within 1 iterations.\n",
      "p0=0.2, p1 = 0.57, p2 = 0.23:\n",
      "The critical radius: R=16.720 [cm] with mass: m=587379.362 [g]; converged within 1 iterations.\n",
      "p0=0.2, p1 = 0.55, p2 = 0.25:\n",
      "The critical radius: R=12.540 [cm] with mass: m=247800.668 [g]; converged within 1 iterations.\n",
      "p0=0.2, p1 = 0.53, p2 = 0.27:\n",
      "The critical radius: R=10.450 [cm] with mass: m=143403.165 [g]; converged within 1 iterations.\n",
      "p0=0.2, p1 = 0.51, p2 = 0.29:\n",
      "The critical radius: R=9.148 [cm] with mass: m=96190.318 [g]; converged within 2 iterations.\n",
      "p0=0.2, p1 = 0.5, p2 = 0.3:\n",
      "The critical radius: R=8.360 [cm] with mass: m=73422.420 [g]; converged within 1 iterations.\n",
      "p0=0.2, p1 = 0.49, p2 = 0.31:\n",
      "The critical radius: R=8.004 [cm] with mass: m=64439.998 [g]; converged within 2 iterations.\n",
      "p0=0.2, p1 = 0.47, p2 = 0.33:\n",
      "The critical radius: R=7.315 [cm] with mass: m=49187.285 [g]; converged within 1 iterations.\n",
      "p0=0.2, p1 = 0.45, p2 = 0.35:\n",
      "The critical radius: R=6.270 [cm] with mass: m=30975.084 [g]; converged within 1 iterations.\n",
      "p0=0.3, p1 = 0.35, p2 = 0.35:\n",
      "The critical radius: R=12.540 [cm] with mass: m=247800.668 [g]; converged within 1 iterations.\n",
      "p0=0.3, p1 = 0.3, p2 = 0.4:\n",
      "The critical radius: R=8.360 [cm] with mass: m=73422.420 [g]; converged within 1 iterations.\n",
      "p0=0.3, p1 = 0.25, p2 = 0.45:\n",
      "The critical radius: R=6.270 [cm] with mass: m=30975.084 [g]; converged within 1 iterations.\n"
     ]
    }
   ],
   "source": [
    "rho = 30  # Density in g/cm^3\n",
    "p0_array = [0.1, 0.1, 0.1, 0.2, 0.2, 0.2, 0.2, 0.2, 0.2,\n",
    "            0.2, 0.2, 0.3, 0.3, 0.3]  # Probability of ingestion\n",
    "p1_array = [0.75, 0.7, 0.65, 0.57, 0.55, 0.53, 0.51, 0.5, 0.49,\n",
    "            0.47, 0.45, 0.35, 0.30, 0.25]  # Probability of dispersion\n",
    "p2_array = [0.15, 0.20, 0.25, 0.23, 0.25, 0.27, 0.29, 0.3, 0.31,\n",
    "            0.33, 0.35, 0.35, 0.4, 0.45]  # Probability of fission\n",
    "mass_array = np.zeros_like(p0_array)\n",
    "initial_radiuses = [12, 8, 6, 16, 12, 10, 8, 8, 7, 7, 6, 12, 8, 6]\n",
    "\n",
    "for i, _ in enumerate(p0_array):\n",
    "    print(f\"p0={p0_array[i]}, p1 = {p1_array[i]}, p2 = {p2_array[i]}:\")\n",
    "    mass_array[i] = calculate_radius(rho, p0_array[i], p1_array[i], 1, initial_radiuses[i])"
   ]
  },
  {
   "cell_type": "markdown",
   "metadata": {},
   "source": [
    "We can see that the masses are equal for some values of $p0$, $p1$, $p2$. Lets look at the meaning of each probability. $p0$ is the probability to lose particle and $p0$ - is the probability to gain new one. So, actually, being in the $p1$ range does not change the critical mass - because the amount of particles does not change, this only prolongates the system state for one more step, where, again, there are 3 probabilities. \n",
    "\n",
    "Lets propose the following parameter: $0*p_0 + 1*p_1 + 2*p_2$. This is the total particle gain - each of the probabilities multiplied by number of particles corresponding to it. As this value decreases, the critical mass increases. We can see that the mass goes like $r^3$ and radius is changed according to the state. The more under-critical states we had - the bigger the radius will be (multiplication by 1.1) and so the bigger the mass will be. Lets plot the parameter: "
   ]
  },
  {
   "cell_type": "code",
   "execution_count": 11,
   "metadata": {},
   "outputs": [
    {
     "data": {
      "image/png": "[encoded data removed]",
      "text/plain": [
       "<Figure size 1000x600 with 1 Axes>"
      ]
     },
     "metadata": {},
     "output_type": "display_data"
    }
   ],
   "source": [
    "param_array = np.zeros_like(p0_array)\n",
    "for i in range(len(p0_array)):\n",
    "    param_array[i] = 0*p0_array[i] + 1*p1_array[i] + 2*p2_array[i]\n",
    "\n",
    "plt.figure(figsize=(10, 6))\n",
    "plt.plot(param_array, mass_array,\n",
    "         marker='o', linestyle=' ', color='g')\n",
    "plt.title('Critical Mass vs. Density')\n",
    "plt.xlabel('Parameter')\n",
    "plt.ylabel('Critical Mass [g]')\n",
    "plt.grid(True)\n",
    "plt.show()"
   ]
  },
  {
   "cell_type": "code",
   "execution_count": 12,
   "metadata": {},
   "outputs": [
    {
     "name": "stdout",
     "output_type": "stream",
     "text": [
      "p0=0.1, p1 = 0.7, p2 = 0.2, parameter = 1.1:\n",
      "The critical radius: R=8.371 [cm] with mass: m=73702.740 [g]; converged within 4 iterations.\n",
      "p0=0.27, p1 = 0.36, p2 = 0.37, parameter = 1.1:\n",
      "The critical radius: R=8.371 [cm] with mass: m=73702.740 [g]; converged within 4 iterations.\n",
      "p0=0.31, p1 = 0.28, p2 = 0.41, parameter = 1.1:\n",
      "The critical radius: R=8.371 [cm] with mass: m=73702.740 [g]; converged within 4 iterations.\n"
     ]
    }
   ],
   "source": [
    "rho = 30  # Density in g/cm^3\n",
    "p0_array = [0.1, 0.27, 0.31]  # Probability of ingestion\n",
    "p1_array = [0.7, 0.36, 0.28]  # Probability of dispersion\n",
    "p2_array = [0.2, 0.37, 0.41]  # Probability of fission\n",
    "mass_array = np.zeros_like(p0_array)\n",
    "for i in range(len(p0_array)):\n",
    "    param_array[i] = 0*p0_array[i] + 1*p1_array[i] + 2*p2_array[i]\n",
    "\n",
    "for i, _ in enumerate(p0_array):\n",
    "    print(\n",
    "        f\"p0={p0_array[i]}, p1 = {p1_array[i]}, p2 = {p2_array[i]}, parameter = {param_array[i]:.1f}:\")\n",
    "    mass_array[i] = calculate_radius(rho, p0_array[i], p1_array[i], 1)"
   ]
  },
  {
   "cell_type": "markdown",
   "metadata": {},
   "source": [
    "We can see that for the same value of the parameter but different values of $p0$, $p1$ and $p2$ we get the same critical mass, as requested."
   ]
  }
 ],
 "metadata": {
  "kernelspec": {
   "display_name": "Python 3",
   "language": "python",
   "name": "python3"
  },
  "language_info": {
   "codemirror_mode": {
    "name": "ipython",
    "version": 3
   },
   "file_extension": ".py",
   "mimetype": "text/x-python",
   "name": "python",
   "nbconvert_exporter": "python",
   "pygments_lexer": "ipython3",
   "version": "3.11.4"
  }
 },
 "nbformat": 4,
 "nbformat_minor": 2
}
