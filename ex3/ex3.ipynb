{
 "cells": [
  {
   "cell_type": "code",
   "execution_count": 1,
   "metadata": {},
   "outputs": [],
   "source": [
    "import numpy as np # type: ignore\n",
    "from matplotlib import pyplot as plt # type: ignore\n",
    "from scipy import optimize # type: ignore\n",
    "from scipy import integrate # type: ignore"
   ]
  },
  {
   "cell_type": "markdown",
   "metadata": {},
   "source": [
    "---"
   ]
  },
  {
   "cell_type": "markdown",
   "metadata": {},
   "source": [
    "### Integral calculation function"
   ]
  },
  {
   "cell_type": "code",
   "execution_count": 2,
   "metadata": {},
   "outputs": [],
   "source": [
    "def gauss_integration(f, a, b):\n",
    "    \"\"\"Calculates the integral of f over [a, b] using Gauss-Legendre of 3rd degree.\"\"\"\n",
    "    x1, x2, x3 = -np.sqrt(0.6), 0, np.sqrt(0.6)\n",
    "    w1, w2, w3 = 5/9, 8/9, 5/9\n",
    "\n",
    "    def transform(t): return 0.5 * (b - a) * t + 0.5 * (b + a)\n",
    "    integral = ((b - a) / 2) * (w1 * f(transform(x1)) + w2 *\n",
    "                                f(transform(x2)) + w3 * f(transform(x3)))\n",
    "    return integral"
   ]
  },
  {
   "cell_type": "code",
   "execution_count": 3,
   "metadata": {},
   "outputs": [],
   "source": [
    "def simpson_integration(f, a, b):\n",
    "    \"\"\"Calculates the integral of f over [a, b] using Simpson's rule.\"\"\"\n",
    "    mid = (a + b) / 2\n",
    "    return ((b - a) / 6) * (f(a) + 4 * f(mid) + f(b))"
   ]
  },
  {
   "cell_type": "code",
   "execution_count": 4,
   "metadata": {},
   "outputs": [],
   "source": [
    "def fix_segments(a, b, eps):\n",
    "    \"\"\"Divides the interval [a, b] into equal parts of width approximately eps.\"\"\"\n",
    "    points = []\n",
    "    x = a\n",
    "    while x < b:\n",
    "        points.append(x)\n",
    "        x += eps\n",
    "    points.append(b)\n",
    "    return points"
   ]
  },
  {
   "cell_type": "code",
   "execution_count": 5,
   "metadata": {},
   "outputs": [],
   "source": [
    "\n",
    "def recursive_divide(f, a, b, eps, depth, integral_type):\n",
    "    \"\"\"Divides the interval [a, b] recursively to achieve the desired precision.\"\"\"\n",
    "    if depth >= 50:\n",
    "        if integral_type == 'simpson':\n",
    "            return simpson_integration(f, a, b)\n",
    "        if integral_type == 'gauss':\n",
    "            return gauss_integration(f, a, b)\n",
    "\n",
    "    mid = (a + b) / 2\n",
    "    if integral_type == 'simpson':\n",
    "        left_integral = simpson_integration(f, a, mid)\n",
    "        right_integral = simpson_integration(f, mid, b)\n",
    "        integral = simpson_integration(f, a, b)\n",
    "    if integral_type == 'gauss':\n",
    "        left_integral = gauss_integration(f, a, mid)\n",
    "        right_integral = gauss_integration(f, mid, b)\n",
    "        integral = gauss_integration(f, a, b)\n",
    "\n",
    "    if abs((left_integral + right_integral) - integral) < eps:\n",
    "        return left_integral + right_integral\n",
    "    else:\n",
    "        return (recursive_divide(f, a, mid, eps, depth + 1, integral_type) +\n",
    "                recursive_divide(f, mid, b, eps, depth + 1, integral_type))"
   ]
  },
  {
   "cell_type": "markdown",
   "metadata": {},
   "source": [
    "The main function:"
   ]
  },
  {
   "cell_type": "code",
   "execution_count": 6,
   "metadata": {},
   "outputs": [],
   "source": [
    "def f_integral(f, a, b, eps, global_type, integral_type):\n",
    "    \"\"\"Calculates the integral of function f over [a, b] with specified precision.\"\"\"\n",
    "    if global_type == 'fix_segments':\n",
    "        points = fix_segments(a, b, eps)\n",
    "        if integral_type == 'simpson':\n",
    "            integral = sum(simpson_integration(\n",
    "                f, points[i], points[i+1]) for i in range(len(points) - 1))\n",
    "        elif integral_type == 'gauss':\n",
    "            integral = sum(gauss_integration(\n",
    "                f, points[i], points[i+1]) for i in range(len(points) - 1))\n",
    "        else:\n",
    "            raise ValueError(\"Unknown integral type\")\n",
    "    elif global_type == 'recursive':\n",
    "        max_depth = 50  \n",
    "        if integral_type == 'simpson':\n",
    "            integral = recursive_divide(\n",
    "                f, a, b, eps, 0, integral_type)\n",
    "        elif integral_type == 'gauss':\n",
    "            integral = recursive_divide(\n",
    "                f, a, b, eps, 0, integral_type)\n",
    "        else:\n",
    "            raise ValueError(\"Unknown integral type\")\n",
    "    else:\n",
    "        raise ValueError(\"Unknown global type\")\n",
    "\n",
    "    return integral"
   ]
  },
  {
   "cell_type": "markdown",
   "metadata": {},
   "source": [
    "Let's check the function with parabolic potential $V = x^2$. We know that $\\int_{0}^{1} x^2dx = \\frac{1}{3}$, so let's see how the results hold: "
   ]
  },
  {
   "cell_type": "code",
   "execution_count": 7,
   "metadata": {},
   "outputs": [
    {
     "name": "stdout",
     "output_type": "stream",
     "text": [
      "Global Type    Integral Type  Eps       Result                   Calls for function\n",
      "===================================================================================\n",
      "fix_segments   simpson        1e-05     0.33333333333333325932   300003    \n",
      "fix_segments   gauss          1e-05     0.33333333333333325932   300003    \n",
      "recursive      simpson        1e-05     0.33333333333333331483   9         \n",
      "recursive      gauss          1e-05     0.33333333333333331483   9         \n",
      "-----------------------------------------------------------------------------------\n",
      "fix_segments   simpson        0.0001    0.33333333333333264870   30003     \n",
      "fix_segments   gauss          0.0001    0.33333333333333270421   30003     \n",
      "recursive      simpson        0.0001    0.33333333333333331483   9         \n",
      "recursive      gauss          0.0001    0.33333333333333331483   9         \n",
      "-----------------------------------------------------------------------------------\n",
      "fix_segments   simpson        0.001     0.33333333333333348136   3000      \n",
      "fix_segments   gauss          0.001     0.33333333333333348136   3000      \n",
      "recursive      simpson        0.001     0.33333333333333331483   9         \n",
      "recursive      gauss          0.001     0.33333333333333331483   9         \n",
      "-----------------------------------------------------------------------------------\n",
      "fix_segments   simpson        0.01      0.33333333333333331483   300       \n",
      "fix_segments   gauss          0.01      0.33333333333333331483   300       \n",
      "recursive      simpson        0.01      0.33333333333333331483   9         \n",
      "recursive      gauss          0.01      0.33333333333333331483   9         \n",
      "-----------------------------------------------------------------------------------\n"
     ]
    }
   ],
   "source": [
    "def quadratic_potential(x):\n",
    "    global integral_cnt\n",
    "    integral_cnt += 1\n",
    "    return x ** 2\n",
    "\n",
    "a = 0  \n",
    "b = 1  \n",
    "eps_values = [1e-5, 1e-4, 1e-3, 1e-2]\n",
    "\n",
    "global_types = ['fix_segments', 'recursive']\n",
    "integral_types = ['simpson', 'gauss']  \n",
    "\n",
    "print(f\"{'Global Type':<15}{'Integral Type':<15}{'Eps':<10}{'Result':<25}{'Calls for function':<10}\")\n",
    "print(\"=\"*83)\n",
    "\n",
    "for eps in eps_values:\n",
    "    for gt in global_types:\n",
    "        for it in integral_types:\n",
    "            integral_cnt = 0\n",
    "            result = f_integral(quadratic_potential, a, b, eps, gt, it)\n",
    "            print(f\"{gt:<15}{it:<15}{eps:<10}{result:<25.20f}{integral_cnt:<10}\")\n",
    "    print(\"-\"*83)\n"
   ]
  },
  {
   "cell_type": "markdown",
   "metadata": {},
   "source": [
    "### Explanation: \n",
    "We can see that we got very high precision using all methods - i needed to increase the accuracy from 10 to 20 digits after the point to see the difference. \n",
    "\n",
    "When looking at the calls to function: when comparing 'gauss' and simpson' we can see that they got the same amount of calls. This is reasonable, because inside the function itself we see three calls for $f$: f(transform($x_i$)) for Gauss integral, while Simpson method also has three calls for $a$, $b$ and $\\frac{a+b}{2}$. \n",
    "\n",
    "When comparing 'fix_segments' and 'recursive' method, we can see that because the function that we gave ($x^2$) is smooth, the depth of recursion is low - it is always precise enough ($<eps$). I tried to enter more complex function, and seen the recursive method go up to 20 calls or so. In the contrary, the 'fix_segments' method is \"straight forward\" - so it makes a lot of function calls (constant amount for each segment)."
   ]
  },
  {
   "cell_type": "markdown",
   "metadata": {},
   "source": [
    "---"
   ]
  },
  {
   "cell_type": "markdown",
   "metadata": {},
   "source": [
    "### Root search function"
   ]
  },
  {
   "cell_type": "code",
   "execution_count": 8,
   "metadata": {},
   "outputs": [],
   "source": [
    "def bisection(f, a, b, epsx, epsf):\n",
    "    \"\"\"Finds a root using the bisection method.\"\"\"\n",
    "    while (b - a) / 2 > epsx:\n",
    "        midpoint = (a + b) / 2\n",
    "        f_mid = f(midpoint)\n",
    "\n",
    "        if abs(f_mid) < epsf:\n",
    "            return midpoint\n",
    "        elif np.sign(f(a)) == np.sign(f_mid):\n",
    "            a = midpoint\n",
    "        else:\n",
    "            b = midpoint\n",
    "\n",
    "    return (a + b) / 2"
   ]
  },
  {
   "cell_type": "code",
   "execution_count": 9,
   "metadata": {},
   "outputs": [],
   "source": [
    "def secant(f, a, b, epsx, epsf):\n",
    "    \"\"\"Finds a root using the secant method with fallback to bisection.\"\"\"\n",
    "    x_0 = a\n",
    "    x_1 = b\n",
    "    while abs(x_1-x_0) > epsx or abs(f(x_1)) > epsf:\n",
    "        if abs(x_1-x_0) > 0.8 * (b-a):\n",
    "            if np.sign(f(x_0)) == np.sign(f((a+b)/2)):\n",
    "                x_0 = (a+b)/2\n",
    "            else:\n",
    "                x_1 = (a+b)/2\n",
    "        x_m = x_1 - f(x_1)*(x_1-x_0)/(f(x_1)-f(x_0))\n",
    "        x_0 = x_1\n",
    "        x_1 = min(max(a, x_m), b)  # normalize x1\n",
    "    return x_1"
   ]
  },
  {
   "cell_type": "markdown",
   "metadata": {},
   "source": [
    "The main function:"
   ]
  },
  {
   "cell_type": "code",
   "execution_count": 10,
   "metadata": {},
   "outputs": [],
   "source": [
    "def x_root(f, a, b, epsx, epsf, type):\n",
    "    \"\"\"Finds a root of f in the interval [a, b] using the specified method.\"\"\"\n",
    "\n",
    "    if np.sign(f(a)) == np.sign(f(b)):\n",
    "        raise ValueError(\n",
    "            \"Function values at the endpoints must have opposite signs.\")\n",
    "\n",
    "    if type == 'bisection':\n",
    "        return bisection(f, a, b, epsx, epsf)\n",
    "    elif type == 'secant':\n",
    "        return secant(f, a, b, epsx, epsf)\n",
    "    else:\n",
    "        raise ValueError(\"Unknown method type. Use 'bisection' or 'secant'.\")"
   ]
  },
  {
   "cell_type": "markdown",
   "metadata": {},
   "source": [
    "Let's test the function using different $epsx$, $epsf$ and each type. Let's find roots of simple equation: $x^2 - 3 = 0$. The returned root should be $\\sqrt{3}$, let's check the results:"
   ]
  },
  {
   "cell_type": "code",
   "execution_count": 11,
   "metadata": {},
   "outputs": [
    {
     "name": "stdout",
     "output_type": "stream",
     "text": [
      "Type           Eps X          Eps F     Root                Calls to function\n",
      "=============================================================================\n",
      "bisection      1e-05          1e-05     1.7320537567        40        \n",
      "secant         1e-05          1e-05     1.7320508075        29        \n",
      "-----------------------------------------------------------------------------\n",
      "bisection      1e-05          0.0001    1.7320251465        33        \n",
      "secant         1e-05          0.0001    1.7320508075        29        \n",
      "-----------------------------------------------------------------------------\n",
      "bisection      1e-05          0.001     1.7321777344        27        \n",
      "secant         1e-05          0.001     1.7320508075        29        \n",
      "-----------------------------------------------------------------------------\n",
      "bisection      0.0001         1e-05     1.7321014404        34        \n",
      "secant         0.0001         1e-05     1.7320508075        29        \n",
      "-----------------------------------------------------------------------------\n",
      "bisection      0.0001         0.0001    1.7320251465        33        \n",
      "secant         0.0001         0.0001    1.7320508075        29        \n",
      "-----------------------------------------------------------------------------\n",
      "bisection      0.0001         0.001     1.7321777344        27        \n",
      "secant         0.0001         0.001     1.7320508075        29        \n",
      "-----------------------------------------------------------------------------\n",
      "bisection      0.001          1e-05     1.7315673828        28        \n",
      "secant         0.001          1e-05     1.7320499198        26        \n",
      "-----------------------------------------------------------------------------\n",
      "bisection      0.001          0.0001    1.7315673828        28        \n",
      "secant         0.001          0.0001    1.7320499198        26        \n",
      "-----------------------------------------------------------------------------\n",
      "bisection      0.001          0.001     1.7321777344        27        \n",
      "secant         0.001          0.001     1.7320499198        26        \n",
      "-----------------------------------------------------------------------------\n"
     ]
    }
   ],
   "source": [
    "def quadratic_potential(x):\n",
    "    global root_cnt\n",
    "    root_cnt += 1\n",
    "    return x**2 - 3\n",
    "\n",
    "\n",
    "a = 0  \n",
    "b = 10 \n",
    "\n",
    "eps_x_values = [1e-5, 1e-4, 1e-3]\n",
    "eps_f_values = [1e-5, 1e-4, 1e-3]\n",
    "\n",
    "types = ['bisection', 'secant']\n",
    "\n",
    "print(f\"{'Type':<15}{'Eps X':<15}{'Eps F':<10}{'Root':<20}{'Calls to function':<10}\")\n",
    "print(\"=\"*77)\n",
    "\n",
    "for eps_x in eps_x_values:\n",
    "    for eps_f in eps_f_values:\n",
    "        for t in types:\n",
    "            root_cnt = 0\n",
    "            result = x_root(quadratic_potential, a, b, eps_x, eps_f, t)\n",
    "            print(f\"{t:<15}{eps_x:<15}{eps_f:<10}{result:<20.10f}{root_cnt:<10}\")\n",
    "        print(\"-\"*77)"
   ]
  },
  {
   "cell_type": "markdown",
   "metadata": {},
   "source": [
    "### Explanation: \n",
    "Again, we see that the result differs for different $eps$ - both for $x$ and for $f(x)$. We can see that the secant method is more accurate than the regular bisection. Moreover, we see the similar pattern for $eps$ - the smaller eplsilon is, the more accurate is the function. It is easy to explain - we make more iterations in calculation and gain precision. \n",
    "\n",
    "Looking at the amount of calls - we can see that as $epsx$ and $epsf$ grow, the amount of calls goes down - this is because we need less precision - meaning less iterations."
   ]
  },
  {
   "cell_type": "markdown",
   "metadata": {},
   "source": [
    "---"
   ]
  },
  {
   "cell_type": "markdown",
   "metadata": {},
   "source": [
    "### PART 3"
   ]
  },
  {
   "cell_type": "markdown",
   "metadata": {},
   "source": [
    "Let's check the function for simple potential: $v(x) =x^2$ with $\\gamma = 1$: "
   ]
  },
  {
   "cell_type": "code",
   "execution_count": 12,
   "metadata": {},
   "outputs": [
    {
     "name": "stdout",
     "output_type": "stream",
     "text": [
      "  0   0.9999995879278104   5175   11  -2.6645e-13  -4.1207e-07\n",
      "  1   2.9999995632605954   5391   11  -9.9476e-14  -1.4558e-07\n",
      "  2   4.9999992721009923   5391   11  -1.6698e-13  -1.4558e-07\n",
      "  3   6.9999996381740077   5607   11  -2.6645e-14  -5.1689e-08\n",
      "  4   8.9999995347951511   5607   11  -3.7303e-14  -5.1689e-08\n"
     ]
    }
   ],
   "source": [
    "def v_sq(x):\n",
    "    global mone_v\n",
    "    mone_v += 1  # counts how many times v was calculated for efficiency check\n",
    "    return x*x\n",
    "\n",
    "\n",
    "gamma = 1\n",
    "\n",
    "\n",
    "def s(energy):\n",
    "    global mone_s\n",
    "    mone_s += 1  # counts how many times s was calculated for efficiency check\n",
    "    x_1 = -np.sqrt(energy)\n",
    "    x_2 = np.sqrt(energy)\n",
    "    def ff(y): return np.sqrt(energy - v_sq(y))\n",
    "    return gamma * f_integral(ff, x_1, x_2, 1e-6, 'recursive', 'gauss')\n",
    "\n",
    "\n",
    "for n in range(5):\n",
    "    def f(x): return s(x) - (n+0.5)*np.pi\n",
    "    mone_v, mone_s = 0, 0\n",
    "    e_n = x_root(f, 0, 1000, 1e-3, 1e-3, 'secant')\n",
    "    print('%3d %20.16f %6d %4d %12.4e %12.4e' %\n",
    "          (n, e_n, mone_v, mone_s, f(e_n), e_n/(2*n+1)-1))"
   ]
  },
  {
   "cell_type": "markdown",
   "metadata": {},
   "source": [
    "### Explanation: \n",
    "We got the results as expected: $\\epsilon_{n} = 2n + 1, n = 0,1,2,3,4...$"
   ]
  },
  {
   "cell_type": "markdown",
   "metadata": {},
   "source": [
    "---"
   ]
  },
  {
   "cell_type": "markdown",
   "metadata": {},
   "source": [
    "### PART 4"
   ]
  },
  {
   "cell_type": "markdown",
   "metadata": {},
   "source": [
    "### Second Order Approximation of Lennard-Jones Potential\n",
    "\n",
    "Given the Lennard-Jones potential:\n",
    "$ V(x) = 4 \\left( \\frac{1}{x^{12}} - \\frac{1}{x^6} \\right) $\n",
    "\n",
    "##### 1. Find the Minimum\n",
    "\n",
    "To find the minimum, we set the first derivative $V'(x)$ to zero.\n",
    "\n",
    "The first derivative of $V(x)$ is:\n",
    "$ V'(x) = 4 \\left( -12 \\frac{1}{x^{13}} + 6 \\frac{1}{x^7} \\right) = 4 \\left( -\\frac{12}{x^{13}} + \\frac{6}{x^7} \\right) $\n",
    "\n",
    "Setting $V'(x) = 0$:\n",
    "$ -\\frac{12}{x^{13}} + \\frac{6}{x^7} = 0 $\n",
    "\n",
    "Solving for $x$:\n",
    "$ \\frac{6}{x^7} = \\frac{12}{x^{13}} $\n",
    "$ 6x^{13} = 12x^7 $\n",
    "$ x^{13} = 2x^7 $\n",
    "$ x^6 = 2 $\n",
    "$ x = 2^{1/6} $\n",
    "\n",
    "Thus, the minimum occurs at $x = 2^{1/6}$.\n",
    "\n",
    "##### 2. Evaluate $V(x)$, $V'(x)$, and $V''(x)$ at $x = 2^{1/6}$\n",
    "\n",
    "$ V \\left( 2^{1/6} \\right) = 4 \\left( \\frac{1}{(2^{1/6})^{12}} - \\frac{1}{(2^{1/6})^6} \\right) = 4 \\left( \\frac{1}{2^2} - \\frac{1}{2^1} \\right) = 4 \\left( \\frac{1}{4} - \\frac{1}{2} \\right) = 4 \\left( \\frac{1}{4} - \\frac{2}{4} \\right) = 4 \\left( -\\frac{1}{4} \\right) = -1 $\n",
    "\n",
    "We already know that $V'(x)$ at $x = 2^{1/6}$ is zero because it is the minimum.\n",
    "\n",
    "For the second derivative:\n",
    "$ V''(x) = 4 \\left( 12 \\cdot 13 \\frac{1}{x^{14}} - 6 \\cdot 7 \\frac{1}{x^8} \\right) = 4 \\left( \\frac{156}{x^{14}} - \\frac{42}{x^8} \\right) $\n",
    "\n",
    "Evaluating at $x = 2^{1/6}$:\n",
    "$ V'' \\left( 2^{1/6} \\right) = 4 \\left( \\frac{156}{(2^{1/6})^{14}} - \\frac{42}{(2^{1/6})^8} \\right) = 4 \\left( \\frac{156}{2^{14/6}} - \\frac{42}{2^{8/6}} \\right) = 4 \\left( \\frac{156}{2^{7/3}} - \\frac{42}{2^{4/3}} \\right) $\n",
    "\n",
    "Simplifying the exponents:\n",
    "$ = 4 \\left( \\frac{156}{2^{2 + 1/3}} - \\frac{42}{2^{1 + 1/3}} \\right) = 4 \\left( \\frac{156}{2^2 \\cdot 2^{1/3}} - \\frac{42}{2 \\cdot 2^{1/3}} \\right) $\n",
    "$ = 4 \\left( \\frac{156}{4 \\cdot 2^{1/3}} - \\frac{42}{2 \\cdot 2^{1/3}} \\right) = 4 \\left( \\frac{39}{2^{1/3}} - \\frac{21}{2^{1/3}} \\right) $\n",
    "$ = 4 \\left( \\frac{39 - 21}{2^{1/3}} \\right) = 4 \\left( \\frac{18}{2^{1/3}} \\right) = 4 \\cdot 18 \\cdot 2^{-1/3} $\n",
    "$ = 72 \\cdot 2^{-1/3} $\n",
    "\n",
    "##### 3. Construct the Second-Order Taylor Series Expansion around $x = 2^{1/6}$\n",
    "\n",
    "The Taylor series expansion is:\n",
    "$ V(x) \\approx V \\left( 2^{1/6} \\right) + V' \\left( 2^{1/6} \\right) (x - 2^{1/6}) + \\frac{1}{2} V'' \\left( 2^{1/6} \\right) (x - 2^{1/6})^2 $\n",
    "\n",
    "Substituting the values found:\n",
    "$ V(x) \\approx -1 + 0 \\cdot (x - 2^{1/6}) + \\frac{1}{2} \\cdot 72 \\cdot 2^{-1/3} \\cdot (x - 2^{1/6})^2 $\n",
    "\n",
    "Simplifying:\n",
    "$ V(x) \\approx -1 + 36 \\cdot 2^{-1/3} \\cdot (x - 2^{1/6})^2 $\n",
    "\n",
    "Therefore, the second-order approximation for the Lennard-Jones potential $V(x)$ around $x = 2^{1/6}$ is:\n",
    "$ V(x) \\approx -1 + 36 \\cdot 2^{-1/3} \\cdot (x - 2^{1/6})^2 $\n"
   ]
  },
  {
   "cell_type": "markdown",
   "metadata": {},
   "source": [
    "Now, let's check the results for the 2nd order approximation for Lennard-Jones potential: "
   ]
  },
  {
   "cell_type": "code",
   "execution_count": 13,
   "metadata": {},
   "outputs": [
    {
     "name": "stdout",
     "output_type": "stream",
     "text": [
      " -0.0615864442936362\n",
      "  0  -0.9692067778531819    423   11  -1.9140e-13  -0.0615864442935820\n",
      "  1  -0.9076203335595999    423   11  -3.4017e-12  -0.0615864442935591\n",
      "  2  -0.8460338892660408    423   11  -7.8382e-12  -0.0615864442935226\n",
      "  3  -0.7844474449725183    423   11  -1.4023e-11  -0.0615866898695492\n",
      "  4  -0.7228607551029691    531   11  -5.8620e-14  -0.0615864988660071\n",
      "  5  -0.6612742562369620    531   11   5.6843e-14  -0.0615864988660069\n",
      "  6  -0.5996877573709551    531   11   3.5527e-15  -0.0615864988660066\n",
      "  7  -0.5381012585049485    531   11   8.1712e-14  -0.0615864988660050\n",
      "  8  -0.4765147596389435    585   11  -1.4211e-14  -0.0615864988660076\n",
      "  9  -0.4149282607729359    585   11  -3.1974e-14  -0.0615864988660053\n",
      " 10  -0.3533417619069306    585   11  -1.2079e-13  -0.0615864988660078\n",
      " 11  -0.2917552630409228    585   11  -7.1054e-15  -0.0615864988660076\n",
      " 12  -0.2301687641749152    585   11  -1.4211e-14  -0.0615864988660054\n",
      " 13  -0.1685822653089098    585   11   1.4211e-14  -0.1685822653089098\n"
     ]
    }
   ],
   "source": [
    "def v_hr(x):\n",
    "    global mone_v\n",
    "    mone_v += 1  # counts how many times v was calculated for efficiency check\n",
    "    return -1 + (1/2) * (36/np.power(2, 1/3)) * (x - np.power(2, 1/6))**2\n",
    "\n",
    "\n",
    "gamma = 150\n",
    "\n",
    "\n",
    "def s(energy):\n",
    "    global mone_s\n",
    "    mone_s += 1  # counts how many times s was calculated for efficiency check\n",
    "\n",
    "    def ff(x):\n",
    "        return np.sqrt(energy - v_hr(x))\n",
    "\n",
    "    x0 = np.power(2, 1/6)\n",
    "\n",
    "    a = 1\n",
    "    b = 2*x0\n",
    "    c = (x0**2) * (1-(energy + 1)/36)\n",
    "\n",
    "    x_1 = abs(((-b+np.sqrt(b**2-4*a*c))/2*a))\n",
    "    x_2 = abs(((-b-np.sqrt(b**2-4*a*c))/2*a))\n",
    "\n",
    "    return gamma * f_integral(ff, x_1, x_2, 1e-6, 'recursive', 'gauss')\n",
    "\n",
    "\n",
    "en_hr = np.zeros(15)\n",
    "m_v = np.zeros(14)\n",
    "m_s = np.zeros(14)\n",
    "f_n = np.zeros(14)\n",
    "\n",
    "for n in range(14):\n",
    "    def f(energy): return s(energy) - (n+0.5)*np.pi\n",
    "    mone_v, mone_s = 0, 0\n",
    "    en_hr[n] = x_root(f, -.999, -1e-7, 1e-3, 1e-3, 'secant')\n",
    "    m_v[n], m_s[n], f_n[n] = mone_v, mone_s, f(en_hr[n])\n",
    "\n",
    "print('%20.16f' % (2*(-1-en_hr[0])))\n",
    "\n",
    "for n in range(14):\n",
    "    print('%3d %20.16f %6d %4d %12.4e %20.16f' %\n",
    "          (n, en_hr[n], m_v[n], m_s[n], f_n[n], en_hr[n]-en_hr[n+1]))"
   ]
  },
  {
   "cell_type": "markdown",
   "metadata": {},
   "source": [
    "### Explanation:\n",
    "We got the results, as expected they are less then 0 (left half plane) and of the relevant order of magnitude - let's see them in comparison to the roots that we get from the real potential and not an approximaion. "
   ]
  },
  {
   "cell_type": "markdown",
   "metadata": {},
   "source": [
    "---"
   ]
  },
  {
   "cell_type": "markdown",
   "metadata": {},
   "source": [
    "### Part 5: "
   ]
  },
  {
   "cell_type": "markdown",
   "metadata": {},
   "source": [
    "Now let's calculate the roots for Lennard-Jones potential: $ V(x) = 4 \\left( \\frac{1}{x^{12}} - \\frac{1}{x^6} \\right) $ with $n=1...38$:"
   ]
  },
  {
   "cell_type": "code",
   "execution_count": 14,
   "metadata": {},
   "outputs": [
    {
     "name": "stdout",
     "output_type": "stream",
     "text": [
      " -0.0615864442936362\n",
      "  0  -0.9647666192501771   2565   17  -3.1653e-08  -0.0680924738641835\n",
      "  1  -0.8966741453859937   2889   17  -5.9191e-07  -0.0649682240732239\n",
      "  2  -0.8317059213127698   3051   17  -1.6538e-06  -0.0619024076465060\n",
      "  3  -0.7698035136662638   3213   17  -2.3976e-06  -0.0588954422609312\n",
      "  4  -0.7109080714053325   3321   17  -2.2402e-06  -0.0559476692505217\n",
      "  5  -0.6549604021548108   3375   17  -1.3272e-06  -0.0530617835862928\n",
      "  6  -0.6018986185685180   3375   17  -4.1721e-07  -0.0502404988986503\n",
      "  7  -0.5516581196698677   2700   14   1.6178e-04  -0.0474748117810516\n",
      "  8  -0.5041833078888160   2700   14   1.9759e-07  -0.0447782242749641\n",
      "  9  -0.4594050836138519   4059   17  -2.4537e-04  -0.0421538809526211\n",
      " 10  -0.4172512026612308   4950   20  -2.4109e-06  -0.0395848888690629\n",
      " 11  -0.3776663137921679   5004   20  -2.2826e-05  -0.0370870209215680\n",
      " 12  -0.3405792928706000   5058   20  -1.1562e-04  -0.0346566532859193\n",
      " 13  -0.3059226395846807   5112   20  -4.1880e-04  -0.0323060332068056\n",
      " 14  -0.2736166063778751   6156   24   1.4013e-06  -0.0300146480772744\n",
      " 15  -0.2436019583006007   5895   23   6.4895e-06  -0.0278003697234195\n",
      " 16  -0.2158015885771812   5895   23   2.5723e-05  -0.0256601866544901\n",
      " 17  -0.1901414019226911   5949   23   9.0995e-05  -0.0235962131194050\n",
      " 18  -0.1665451888032861   6003   23   2.9982e-04  -0.0216094674523338\n",
      " 19  -0.1449357213509522   6057   23   9.0878e-04  -0.0196888737772910\n",
      " 20  -0.1252468475736613   7173   27  -5.2465e-06  -0.0178633310371777\n",
      " 21  -0.1073835165364835   6894   26  -3.0173e-05  -0.0161121705630590\n",
      " 22  -0.0912713459734245   6948   26  -1.7200e-04  -0.0144452884788465\n",
      " 23  -0.0768260574945780   8064   30  -1.1776e-06  -0.0128596650181167\n",
      " 24  -0.0639663924764613   8172   30  -2.5771e-05  -0.0113603245076423\n",
      " 25  -0.0526060679688191   9135   33   2.0686e-06  -0.0099477299616012\n",
      " 26  -0.0426583380072179   9054   32   1.6222e-04  -0.0086227974534553\n",
      " 27  -0.0340355405537626   9108   32   3.5605e-04  -0.0073879038239411\n",
      " 28  -0.0266476367298215   9216   32   7.8959e-04  -0.0062407978273048\n",
      " 29  -0.0204068389025167  10638   36  -3.9245e-06  -0.0051903439978981\n",
      " 30  -0.0152164949046186  10638   36  -1.5965e-05  -0.0042318089562308\n",
      " 31  -0.0109846859483878  10692   36  -6.9265e-05  -0.0033681027699967\n",
      " 32  -0.0076165831783910  10800   36  -3.3270e-04  -0.0026012652310337\n",
      " 33  -0.0050153179473574  12006   40  -5.8855e-06  -0.0019308647831448\n",
      " 34  -0.0030844531642125  12024   40  -2.5214e-04  -0.0013595542195890\n",
      " 35  -0.0017248989446235  13464   44   5.0585e-05  -0.0008871254012149\n",
      " 36  -0.0008377735434087  14067   45   1.0851e-04  -0.0005150285643033\n",
      " 37  -0.0003227449791054  14544   46   2.3315e-04  -0.0003227449791054\n"
     ]
    }
   ],
   "source": [
    "def v_lj(x):\n",
    "    global mone_v\n",
    "    mone_v += 1  # counts how many times v was calculated for efficiency check\n",
    "    return 4 * ((1/x**12) - (1/x**6))\n",
    "\n",
    "\n",
    "gamma = 150\n",
    "\n",
    "\n",
    "def s(energy):\n",
    "    global mone_s\n",
    "    mone_s += 1  # counts how many times s was calculated for efficiency check\n",
    "\n",
    "    def ff(x):\n",
    "        return np.sqrt(energy - v_lj(x))\n",
    "\n",
    "    # let's use np.roots function for finding the roots of the equation v(x) = e_n\n",
    "    x_1, x_2 = sorted(np.power(np.roots([energy/4, 1, -1]), 1/6))\n",
    "\n",
    "    return gamma * f_integral(ff, x_1, x_2, 1e-6, 'recursive', 'gauss')\n",
    "\n",
    "\n",
    "en_lj = np.zeros(39)\n",
    "m_v = np.zeros(38)\n",
    "m_s = np.zeros(38)\n",
    "f_n = np.zeros(38)\n",
    "\n",
    "for n in range(38):\n",
    "    def f(energy): return s(energy) - (n+0.5)*np.pi\n",
    "    mone_v, mone_s = 0, 0\n",
    "    en_lj[n] = x_root(f, -.999, -1e-7, 1e-3, 1e-3, 'secant')\n",
    "    m_v[n], m_s[n], f_n[n] = mone_v, mone_s, f(en_lj[n])\n",
    "\n",
    "print('%20.16f' % (2*(-1-en_hr[0])))\n",
    "\n",
    "for n in range(38):\n",
    "    print('%3d %20.16f %6d %4d %12.4e %20.16f' %\n",
    "          (n, en_lj[n], m_v[n], m_s[n], f_n[n], en_lj[n]-en_lj[n+1]))"
   ]
  },
  {
   "cell_type": "markdown",
   "metadata": {},
   "source": [
    "### Explanation: \n",
    "We can see that the results for $n = 1 ... 13 $ are similar to the results from the approximation (we will see the graph in the next part) and the rest are approaching zero. Let's plot the graph of the functions itself: "
   ]
  },
  {
   "cell_type": "code",
   "execution_count": 15,
   "metadata": {},
   "outputs": [
    {
     "data": {
      "image/png": "[encoded data removed]",
      "text/plain": [
       "<Figure size 640x480 with 1 Axes>"
      ]
     },
     "metadata": {},
     "output_type": "display_data"
    }
   ],
   "source": [
    "x = np.linspace(1e-9, 5, 1000)\n",
    "\n",
    "hr = v_hr(x)\n",
    "lj = v_lj(x)\n",
    "\n",
    "plt.plot(x, hr, 'b--', label='approximated potential') \n",
    "plt.plot(x, lj, 'r', label='lennard-jones potential')  \n",
    "\n",
    "plt.legend()\n",
    "plt.grid(True)\n",
    "ax = plt.gca()\n",
    "ax.set_xlim([1, 2])\n",
    "ax.set_ylim([-1, 0])\n",
    "plt.show()"
   ]
  },
  {
   "cell_type": "markdown",
   "metadata": {},
   "source": [
    "### Explanation: \n",
    "We can see that the coeeficients that I got for the approximated function slightly differ from the ones that are shown in the homework (the graph i got is slightly wider than the graph on page 2 of HW)."
   ]
  },
  {
   "cell_type": "markdown",
   "metadata": {},
   "source": [
    "---"
   ]
  },
  {
   "cell_type": "markdown",
   "metadata": {},
   "source": [
    "### Part 6: "
   ]
  },
  {
   "cell_type": "markdown",
   "metadata": {},
   "source": [
    "Now, let's compare the results from the original and approximated function: "
   ]
  },
  {
   "cell_type": "code",
   "execution_count": 16,
   "metadata": {},
   "outputs": [
    {
     "data": {
      "image/png": "[encoded data removed]",
      "text/plain": [
       "<Figure size 600x500 with 1 Axes>"
      ]
     },
     "metadata": {},
     "output_type": "display_data"
    }
   ],
   "source": [
    "plt.figure(figsize=(6,5))\n",
    "n1 = np.arange(14)\n",
    "plt.plot(n1[:],en_hr[0:14],'o',label='harmonic-approx')\n",
    "n2 = np.arange(39)\n",
    "plt.plot(n2[:],en_lj[0:39],'x',label='lenard-Jones')\n",
    "plt.grid()\n",
    "plt.legend()\n",
    "plt.show()"
   ]
  },
  {
   "cell_type": "markdown",
   "metadata": {},
   "source": [
    "### Explanation: \n",
    "We can see that the roots differ slightly as expected (explained in the previous section), starting to differ around $n=10$, but overall are near the same. So, we can conclude that the approximation has good enough accuracy near the minimum point."
   ]
  },
  {
   "cell_type": "markdown",
   "metadata": {},
   "source": [
    "---"
   ]
  },
  {
   "cell_type": "markdown",
   "metadata": {},
   "source": [
    "### Part 7:"
   ]
  },
  {
   "cell_type": "markdown",
   "metadata": {},
   "source": [
    "Now, let's see how $eps$ value affects the accuracy of the algorithm: "
   ]
  },
  {
   "cell_type": "code",
   "execution_count": 17,
   "metadata": {},
   "outputs": [
    {
     "name": "stdout",
     "output_type": "stream",
     "text": [
      "bisection - recursive - gauss \n",
      "   n                en_p           ep    it_v it_s         err \n",
      "  20  -0.1285024794137313   1.0000e-03    207   23   2.3365e-05\n",
      "  20  -0.1285024794137313   1.0000e-04    207   23   2.3365e-05\n",
      "  20  -0.1285026189204697   1.0000e-05    405   29  -1.1252e-09\n",
      "  20  -0.1285026189137563   1.0000e-06    675   29  -7.8160e-13\n",
      "  20  -0.1256870589790318   1.0000e-07   1503   29  -2.5102e-10\n",
      "  20  -0.1253279258668270   1.0000e-08   3240   32  -1.4211e-14\n",
      "  20  -0.1252531094694424   1.0000e-09   5760   32   1.4211e-14\n",
      "  20  -0.1252468162344889   1.0000e-10   8568   32   0.0000e+00\n",
      "  20  -0.1252464073266497   1.0000e-11  12096   32   1.4211e-14\n",
      "  20  -0.1252463548286974   1.0000e-12  18999   35   0.0000e+00\n"
     ]
    }
   ],
   "source": [
    "def v_lj(x):\n",
    "    global mone_v\n",
    "    mone_v += 1\n",
    "    return 4 * ((1/x**12) - (1/x**6))\n",
    "\n",
    "\n",
    "gamma = 150\n",
    "\n",
    "\n",
    "def s(energy):\n",
    "    global mone_s\n",
    "    global ep\n",
    "    mone_s += 1  # counts how many times s was calculated for efficiency check\n",
    "\n",
    "    def ff(x):\n",
    "        return np.sqrt(energy - v_lj(x))\n",
    "\n",
    "    x_1, x_2 = sorted(np.power(np.roots([energy/4, 1, -1]), 1/6))\n",
    "\n",
    "    return gamma * f_integral(ff, x_1, x_2, 1e4*ep, 'recursive', 'gauss')\n",
    "\n",
    "\n",
    "n = 20\n",
    "ep = 1e-3\n",
    "\n",
    "print('bisection - recursive - gauss ')\n",
    "print(' %3s %20s %12s %6s %4s %12s' %\n",
    "      ('n', ' en_p ', ' ep ', 'it_v', 'it_s', ' err '))\n",
    "for ip in range(10):\n",
    "    def f(energy): return s(energy) - (n+0.5)*np.pi\n",
    "    mone_v, mone_s = 0, 0\n",
    "    en_p = x_root(f, -.999, -1e-7, ep, ep, 'secant')\n",
    "    print(' %3d %20.16f %12.4e %6d %4d %12.4e' %\n",
    "          (n, en_p, ep, mone_v, mone_s, f(en_p)))\n",
    "    ep = ep/10"
   ]
  },
  {
   "cell_type": "markdown",
   "metadata": {},
   "source": [
    "### Explanation: \n",
    "As expected, the smaller value of $eps$ is, the bigger the amount of iterations needed for the result, and so the accuracty is higher. "
   ]
  },
  {
   "cell_type": "markdown",
   "metadata": {},
   "source": [
    "---"
   ]
  },
  {
   "cell_type": "markdown",
   "metadata": {},
   "source": [
    "### Part 8:"
   ]
  },
  {
   "cell_type": "markdown",
   "metadata": {},
   "source": [
    "Now let's use ready functions from scipy library to make the calculations: "
   ]
  },
  {
   "cell_type": "code",
   "execution_count": 18,
   "metadata": {},
   "outputs": [
    {
     "name": "stdout",
     "output_type": "stream",
     "text": [
      " -0.0615864442936362\n",
      "  0  -0.9647641336579037   3528    8   7.7716e-15  -0.0680925539603058\n",
      "  1  -0.8966715796975979   3528    8   1.5099e-14  -0.0649681483389880\n",
      "  2  -0.8317034313586099   3528    8   2.6645e-14  -0.0619019384444576\n",
      "  3  -0.7698014929141523   3528    8   3.4461e-13  -0.0588948582067991\n",
      "  4  -0.7109066347073533   3528    8   5.4179e-12  -0.0559478684086521\n",
      "  5  -0.6549587662987012   3528    8  -4.8388e-12  -0.0530619573130643\n",
      "  6  -0.6018968089856369   3927    9  -1.4211e-14  -0.0502381412468300\n",
      "  7  -0.5516586677388069   3927    9  -1.1724e-13  -0.0474774651392010\n",
      "  8  -0.5041812025996059   3927    9  -3.0553e-13  -0.0447810029916081\n",
      "  9  -0.4594001996079977   3927    9  -1.4211e-12  -0.0421498582706246\n",
      " 10  -0.4172503413373732   3927    9  -1.0708e-11  -0.0395851642044493\n",
      " 11  -0.3776651771329239   3927    9   1.2392e-11  -0.0370880839596724\n",
      " 12  -0.3405770931732514   4326   10   3.5527e-14  -0.0346598106863191\n",
      " 13  -0.3059172824869323   4326   10  -2.8422e-14  -0.0323015673882729\n",
      " 14  -0.2736157150986593   4326   10   7.1054e-15  -0.0300146066078877\n",
      " 15  -0.2436011084907716   4326   10   2.8422e-14  -0.0278002098798282\n",
      " 16  -0.2158008986109434   4326   10  -3.7659e-13  -0.0256596869229009\n",
      " 17  -0.1901412116880425   4326   10  -1.4921e-12  -0.0235943745275699\n",
      " 18  -0.1665468371604726   4326   10  -1.8424e-11  -0.0216056350951149\n",
      " 19  -0.1449412020653577   4725   11  -1.0658e-13  -0.0196948547754379\n",
      " 20  -0.1252463472899197   4725   11  -8.5265e-14  -0.0178634411560638\n",
      " 21  -0.1073829061338559   4725   11  -1.4211e-14  -0.0161128204349376\n",
      " 22  -0.0912700856989184   4725   11  -1.8332e-12  -0.0144444340211718\n",
      " 23  -0.0768256516777465   4725   11  -2.9132e-12  -0.0128597344932310\n",
      " 24  -0.0639659171845156   4725   11  -2.7825e-11  -0.0113601808470470\n",
      " 25  -0.0526057363374686   4725   11   6.0865e-11  -0.0099472329577986\n",
      " 26  -0.0426585033796700   5124   12   4.2633e-14  -0.0086223451947378\n",
      " 27  -0.0340361581849322   5124   12  -1.9895e-13  -0.0073869591001038\n",
      " 28  -0.0266491990848284   5124   12  -2.4443e-12  -0.0062424950861613\n",
      " 29  -0.0204067039986671   5124   12  -3.0411e-12  -0.0051903430768689\n",
      " 30  -0.0152163609217982   5628   12  -3.1093e-11  -0.0042318520548021\n",
      " 31  -0.0109845088669960   5628   12  -1.4360e-10  -0.0033683184768897\n",
      " 32  -0.0076161903901064   6111   13  -5.6843e-14  -0.0026009735520101\n",
      " 33  -0.0050152168380963   6195   13  -8.9528e-13  -0.0019309693988836\n",
      " 34  -0.0030842474392127   6279   13  -5.6843e-13  -0.0013593641286530\n",
      " 35  -0.0017248833105597   6279   13  -1.3770e-11  -0.0008871059510978\n",
      " 36  -0.0008377773594620   6279   13  -1.8133e-11  -0.0005150164388691\n",
      " 37  -0.0003227609205928   7434   14  -1.9895e-13  -0.0003227609205928\n"
     ]
    }
   ],
   "source": [
    "def v_lj(x):\n",
    "    global mone_v\n",
    "    mone_v += 1  # counts how many times v was calculated for efficiency check\n",
    "    return 4 * ((1/x**12) - (1/x**6))\n",
    "\n",
    "\n",
    "gamma = 150\n",
    "\n",
    "\n",
    "def s(energy):\n",
    "    global mone_s\n",
    "    mone_s += 1  # counts how many times s was calculated for efficiency check\n",
    "\n",
    "    def ff(x):\n",
    "        return np.sqrt(energy - v_lj(x))\n",
    "\n",
    "    x_1, x_2 = sorted(np.power(np.roots([energy/4, 1, -1]), 1/6))\n",
    "\n",
    "    return gamma * integrate.quad(ff, x_1, x_2)[0]\n",
    "\n",
    "\n",
    "en_lj = np.zeros(39)\n",
    "m_v = np.zeros(38)\n",
    "m_s = np.zeros(38)\n",
    "f_n = np.zeros(38)\n",
    "\n",
    "for n in range(38):\n",
    "    def f(energy): return s(energy) - (n+0.5)*np.pi\n",
    "    mone_v, mone_s = 0, 0\n",
    "    en_lj[n] = optimize.brentq(f, -.999, -1e-7)\n",
    "    m_v[n], m_s[n], f_n[n] = mone_v, mone_s, f(en_lj[n])\n",
    "\n",
    "print('%20.16f' % (2*(-1-en_hr[0])))\n",
    "\n",
    "for n in range(38):\n",
    "    print('%3d %20.16f %6d %4d %12.4e %20.16f' %\n",
    "          (n, en_lj[n], m_v[n], m_s[n], f_n[n], en_lj[n]-en_lj[n+1]))"
   ]
  },
  {
   "cell_type": "markdown",
   "metadata": {},
   "source": [
    "### Explanation:\n",
    "As expected, the algorithms from the scipy library are more optimized so we get more accurate result. But, despite that, our result is fairly close to this, so we can conclude that the algorithms that we made are good."
   ]
  }
 ],
 "metadata": {
  "kernelspec": {
   "display_name": "Python 3",
   "language": "python",
   "name": "python3"
  },
  "language_info": {
   "codemirror_mode": {
    "name": "ipython",
    "version": 3
   },
   "file_extension": ".py",
   "mimetype": "text/x-python",
   "name": "python",
   "nbconvert_exporter": "python",
   "pygments_lexer": "ipython3",
   "version": "3.11.4"
  }
 },
 "nbformat": 4,
 "nbformat_minor": 2
}
