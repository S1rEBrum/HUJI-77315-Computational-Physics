{
 "cells": [
  {
   "cell_type": "code",
   "execution_count": 85,
   "metadata": {},
   "outputs": [],
   "source": [
    "from scipy.optimize import root\n",
    "import numpy as np  # type: ignore\n",
    "import matplotlib.pyplot as plt\n",
    "import warnings\n",
    "warnings.filterwarnings('ignore')"
   ]
  },
  {
   "cell_type": "markdown",
   "metadata": {},
   "source": [
    "---"
   ]
  },
  {
   "cell_type": "markdown",
   "metadata": {},
   "source": [
    "### Part 1: "
   ]
  },
  {
   "cell_type": "markdown",
   "metadata": {},
   "source": [
    "Helper function for doing Gaussian elimination: "
   ]
  },
  {
   "cell_type": "code",
   "execution_count": 86,
   "metadata": {},
   "outputs": [],
   "source": [
    "def gauss_p(sa, sb):\n",
    "    ni, nj = sa.shape\n",
    "    x = np.zeros(ni)\n",
    "    if ni != nj:\n",
    "        print('not rectangular matrix')\n",
    "        return x\n",
    "    else:\n",
    "        n = ni\n",
    "    if n != sb.shape[0]:\n",
    "        print('no vector b')\n",
    "        return x\n",
    "    a = np.zeros([n, n])\n",
    "    a[:, :] = sa[:]\n",
    "    b = np.zeros(n)\n",
    "    b[:] = sb[:]\n",
    "\n",
    "    eps = np.finfo(float).eps * np.amax(np.abs(np.diag(a)))\n",
    "    for j in range(0, n-1):\n",
    "        if abs(a[j, j]) < eps*1e5:\n",
    "            if np.amax(np.abs(a[j+1:n, j])) < eps:\n",
    "                print('zero pivot')\n",
    "                return x\n",
    "        loc = np.argmax(np.abs(a[j+1:n, j])) + 1\n",
    "        if j == 0:\n",
    "            a[j:j+1+loc:loc, j:] = a[j+loc:: -loc, j:]\n",
    "            b[j:j+1+loc:loc] = b[j+loc:: -loc]\n",
    "        else:\n",
    "            a[j:j+1+loc:loc, j:] = a[j+loc:j-1: -loc, j:]\n",
    "            b[j:j+1+loc:loc] = b[j+loc:j-1: -loc]\n",
    "        for i in range(j+1, n):\n",
    "            p = a[i, j] / a[j, j]\n",
    "            a[i, j+1:n] -= p * a[j, j+1:n]\n",
    "            b[i] -= p * b[j]\n",
    "    for i in range(n-1, -1, -1):\n",
    "        x[i] = (b[i] - np.sum(a[i, i+1:n]*x[i+1:n])) / a[i, i]\n",
    "    return x"
   ]
  },
  {
   "cell_type": "markdown",
   "metadata": {},
   "source": [
    "Main function for solving $n$ non-linear equations with $n$ variables:"
   ]
  },
  {
   "cell_type": "code",
   "execution_count": 87,
   "metadata": {},
   "outputs": [],
   "source": [
    "def newton_raphson_search(f, jacobian, initial_guess, eps=1e-6):\n",
    "    def scalar_f(x):\n",
    "        Fx = np.array(f(x))\n",
    "        return 0.5 * np.dot(Fx, Fx)\n",
    "\n",
    "    x = np.array(initial_guess, dtype=float)\n",
    "    iteration = 0\n",
    "\n",
    "    while True:\n",
    "        # Calculate the vector function values at the current guess\n",
    "        F = np.array(f(x))\n",
    "        # Calculate the Jacobian matrix at the current guess\n",
    "        J = np.array(jacobian(x))\n",
    "\n",
    "        try:\n",
    "            delta_x = gauss_p(J, -F)\n",
    "        except np.linalg.LinAlgError:\n",
    "            raise ValueError(\"Wrong Jacobian dimension\")\n",
    "\n",
    "        x_new = x + delta_x\n",
    "\n",
    "        if scalar_f(x_new) <= scalar_f(x):\n",
    "            x = x_new\n",
    "        else:\n",
    "            f_factor = 1.0\n",
    "            while f_factor > 1e-10:\n",
    "                x_b = x + f_factor * delta_x\n",
    "                if scalar_f(x_b) <= scalar_f(x):\n",
    "                    x = x_b\n",
    "                    break\n",
    "                f_factor *= 0.5\n",
    "            else:\n",
    "                raise ValueError(\n",
    "                    \"Unable to find a valid step to reduce the function value.\")\n",
    "\n",
    "        if abs(np.linalg.norm(F)) < eps:  # Check for convergence\n",
    "            print(f\"Converged in {iteration+1} iterations.\")\n",
    "            return x\n",
    "\n",
    "        iteration += 1"
   ]
  },
  {
   "cell_type": "markdown",
   "metadata": {},
   "source": [
    "---"
   ]
  },
  {
   "cell_type": "markdown",
   "metadata": {},
   "source": [
    "### Part 2: "
   ]
  },
  {
   "cell_type": "markdown",
   "metadata": {},
   "source": [
    "Lets test the function on some simple equations with known and easy to calculate analitically Jacobian matrices: "
   ]
  },
  {
   "cell_type": "markdown",
   "metadata": {},
   "source": [
    "##### Test 1: "
   ]
  },
  {
   "cell_type": "code",
   "execution_count": 88,
   "metadata": {},
   "outputs": [
    {
     "name": "stdout",
     "output_type": "stream",
     "text": [
      "Converged in 5 iterations.\n",
      "Solution: [1. 1.]\n"
     ]
    }
   ],
   "source": [
    "def f(x):\n",
    "    return [\n",
    "        x[0]**2 + x[1]**2 - 2,\n",
    "        x[0] - x[1]\n",
    "    ]\n",
    "\n",
    "\n",
    "def jacobian(x):\n",
    "    return [\n",
    "        [2*x[0], 2*x[1]],\n",
    "        [1, -1]\n",
    "    ]\n",
    "\n",
    "\n",
    "initial_guess = [0.5, 0.5]\n",
    "\n",
    "solution = newton_raphson_search(f, jacobian, initial_guess, eps=1e-6)\n",
    "print(\"Solution:\", solution)\n",
    "expected_solution = [1, 1]\n",
    "np.testing.assert_allclose(solution, expected_solution, rtol=1e-5, atol=1e-8)"
   ]
  },
  {
   "cell_type": "markdown",
   "metadata": {},
   "source": [
    "##### Test 2: "
   ]
  },
  {
   "cell_type": "code",
   "execution_count": 89,
   "metadata": {},
   "outputs": [
    {
     "name": "stdout",
     "output_type": "stream",
     "text": [
      "Converged in 5 iterations.\n",
      "Solution: [1.         1.73205081 1.41421356]\n"
     ]
    }
   ],
   "source": [
    "def f(x):\n",
    "    return [\n",
    "        x[0]**2 + x[1]**2 + x[2]**2 - 6,\n",
    "        x[0]**2 - x[1]**2 + 2*x[2]**2 - 2,\n",
    "        2*x[0]**2 + x[1]**2 - x[2]**2 - 3\n",
    "    ]\n",
    "\n",
    "\n",
    "def jacobian(x):\n",
    "    return [\n",
    "        [2*x[0], 2*x[1], 2*x[2]],\n",
    "        [2*x[0], -2*x[1], 4*x[2]],\n",
    "        [4*x[0], 2*x[1], -2*x[2]],\n",
    "    ]\n",
    "\n",
    "\n",
    "initial_guess = [1, 1, 1]\n",
    "\n",
    "solution = newton_raphson_search(f, jacobian, initial_guess, eps=1e-6)\n",
    "print(\"Solution:\", solution)\n",
    "expected_solution = [1, np.sqrt(3), np.sqrt(2)]\n",
    "np.testing.assert_allclose(solution, expected_solution, rtol=1e-5, atol=1e-8)"
   ]
  },
  {
   "cell_type": "markdown",
   "metadata": {},
   "source": [
    "### Explanation:\n",
    "We can see that it takes 2-5 iterations of function to get the desired result - the correct solution. "
   ]
  },
  {
   "cell_type": "markdown",
   "metadata": {},
   "source": [
    "---"
   ]
  },
  {
   "cell_type": "markdown",
   "metadata": {},
   "source": [
    "### Part 3: "
   ]
  },
  {
   "cell_type": "markdown",
   "metadata": {},
   "source": [
    "Function for the difference formula: $( f_i \\left( \\{r_j\\}_1^n \\right) )$"
   ]
  },
  {
   "cell_type": "code",
   "execution_count": 90,
   "metadata": {},
   "outputs": [],
   "source": [
    "def hydrostatic_function(m_array, r_array, kappa, gamma):\n",
    "    G = 6.67e-8\n",
    "\n",
    "    n = len(m_array)\n",
    "\n",
    "    p_array = np.zeros(n)\n",
    "    for i in range(n):\n",
    "        if i - 1 < 0:\n",
    "            mp = 0\n",
    "            rp = 0\n",
    "        else:\n",
    "            mp = m_array[i - 1]\n",
    "            rp = r_array[i - 1]\n",
    "        m = m_array[i]\n",
    "        r = r_array[i]\n",
    "\n",
    "        p_array[i] = kappa * ((m - mp) / ((4 * np.pi / 3)\n",
    "                                          * (r**3 - rp**3)))**gamma\n",
    "\n",
    "    f = np.zeros(n)\n",
    "    for i in range(n):\n",
    "        if i - 1 < 0:\n",
    "            mp = 0\n",
    "            rp = 0\n",
    "        else:\n",
    "            mp = m_array[i - 1]\n",
    "            rp = r_array[i - 1]\n",
    "        if i + 1 >= n:\n",
    "            pn = 0\n",
    "            mn = m_array[-1]\n",
    "        else:\n",
    "            pn = p_array[i + 1]\n",
    "            mn = m_array[i + 1]\n",
    "\n",
    "        m = m_array[i]\n",
    "        r = r_array[i]\n",
    "        p = p_array[i]\n",
    "\n",
    "        delta_p = pn - p\n",
    "        delta_m = 0.5 * (mn - mp)\n",
    "\n",
    "        f[i] = ((delta_p / delta_m) / ((G * m) / (4 * np.pi * r**4))) + 1\n",
    "\n",
    "    return f"
   ]
  },
  {
   "cell_type": "markdown",
   "metadata": {},
   "source": [
    "Function for getting $\\rho$ values - needed in the next questions: "
   ]
  },
  {
   "cell_type": "code",
   "execution_count": 91,
   "metadata": {},
   "outputs": [],
   "source": [
    "def rho_values(m_array, r_array):\n",
    "    n = len(m_array)\n",
    "\n",
    "    rho_array = np.zeros(n)\n",
    "\n",
    "    for i in range(n):\n",
    "        if i - 1 < 0:\n",
    "            mp = 0\n",
    "            rp = 0\n",
    "        else:\n",
    "            mp = m_array[i - 1]\n",
    "            rp = r_array[i - 1]\n",
    "        m = m_array[i]\n",
    "        r = r_array[i]\n",
    "\n",
    "        rho_array[i] = ((m - mp) / ((4 * np.pi / 3)\n",
    "                                    * (r**3 - rp**3)))\n",
    "\n",
    "    return rho_array"
   ]
  },
  {
   "cell_type": "markdown",
   "metadata": {},
   "source": [
    "Function for gradient matrix: $( \\partial_j f_i \\left( \\{r_j\\}_1^n \\right) )$\n"
   ]
  },
  {
   "cell_type": "code",
   "execution_count": 92,
   "metadata": {},
   "outputs": [],
   "source": [
    "# PREVIOUS TRY AT ANALYTICAL SOLUTION\n",
    "\n",
    "# def hydrostatic_jacobian(m_array, r_array, kappa, gamma):\n",
    "#     G = 6.67e-8\n",
    "#     df_dr = np.zeros(len(m_array))\n",
    "#     df_drp1 = np.zeros(len(m_array))\n",
    "#     df_drm1 = np.zeros(len(m_array))\n",
    "\n",
    "#     # FOR TESTS\n",
    "#     # f[i] = (kappa * (((((m_array[i+1] - m_array[i])/((4*np.pi/3)\n",
    "#     #                                                  * (r_array[i+1] ** 3 - r_array[i] ** 3))) ** gamma) - (((m_array[i] - m_array[i-1])/((4*np.pi/3)\n",
    "#     #                                                                                                                                       * (r_array[i] ** 3 - r_array[i-1] ** 3))) ** gamma))) * 4 * np.pi * r_array[i] ** 4)/(0.5 * G * m_array[i] * (m_array[i+1] - m_array[i-1]))\n",
    "\n",
    "#     n = len(m_array)\n",
    "#     for i in range(n):\n",
    "#         if i-1 < 0:\n",
    "#             r_prev = 0\n",
    "#             m_prev = 0\n",
    "#         else:\n",
    "#             r_prev = r_array[i-1]\n",
    "#             m_prev = m_array[i-1]\n",
    "\n",
    "#         # as previous\n",
    "#         # if i+1 >= n:\n",
    "#         #     # r_next = r_array[-1]\n",
    "#         #     # m_next = m_array[-1]\n",
    "#         #     m_next = 0\n",
    "#         #     r_next = np.power(\n",
    "#         #         # NOT CORRECT\n",
    "#         #         (m_next - m_array[i]) * (3/(4*np.pi)) + (r_array[i] ** 3), 1/3)\n",
    "#         # else:\n",
    "#         #     r_next = r_array[i+1]\n",
    "#         #     m_next = m_array[i+1]\n",
    "\n",
    "#         # p[i+1] = 0:\n",
    "#         if i+1 >= n:\n",
    "#             m_next = m_array[i]\n",
    "#             c = (8*np.pi*kappa)/(G*m_array[i] * (m_next - m_prev))\n",
    "#             p1 = 4*(r_array[i] ** 3) * (-((m_array[i] - m_prev)/((4*np.pi/3)\n",
    "#                                                                  * (r_array[i] ** 3 - r_prev ** 3))) ** gamma)\n",
    "\n",
    "#             p2 = (r_array[i] ** 4) * ((3**gamma) * (m_array[i] - m_prev)\n",
    "#                                       * 12 * np.pi * (r_array[i] ** 2) * gamma * (4 * np.pi * r_array[i] ** 3 - 4*np.pi * r_prev ** 3) ** (-gamma-1))\n",
    "\n",
    "#             df_dr[i] = c*(p1+p2)\n",
    "\n",
    "#             coeff = (4 * np.pi * kappa * r_array[i]) / \\\n",
    "#                 (0.5 * G * m_array[i] * (m_next - m_prev))\n",
    "\n",
    "#             df_drp1[i] = 0\n",
    "\n",
    "#             df_drm1[i] = coeff * (3**gamma) * ((m_array[i] - m_prev) ** gamma) * 12 * np.pi * (\n",
    "#                 r_prev ** 2) * gamma * ((4*np.pi*(r_array[i]**3) - 4*np.pi*(r_prev ** 3)) ** (-gamma-1))\n",
    "#         else:\n",
    "#             r_next = r_array[i+1]\n",
    "#             m_next = m_array[i+1]\n",
    "\n",
    "#             c = (8*np.pi*kappa)/(G*m_array[i] * (m_next - m_prev))\n",
    "#             p1 = 4*(r_array[i] ** 3) * ((((m_next - m_array[i])/((4*np.pi/3)\n",
    "#                                                                  * (r_next ** 3 - r_array[i] ** 3))) ** gamma) - (((m_array[i] - m_prev)/((4*np.pi/3)\n",
    "#                                                                                                                                           * (r_array[i] ** 3 - r_prev ** 3))) ** gamma))\n",
    "\n",
    "#             p2 = (r_array[i] ** 4) * ((3**gamma) * (m_next - m_array[i])\n",
    "#                                       * 12 * np.pi * (r_array[i] ** 2) * gamma * (4*np.pi * r_next ** 3 - 4 * np.pi * r_array[i] ** 3) ** (-gamma-1) + (3**gamma) * (m_array[i] - m_prev)\n",
    "#                                       * 12 * np.pi * (r_array[i] ** 2) * gamma * (4 * np.pi * r_array[i] ** 3 - 4*np.pi * r_prev ** 3) ** (-gamma-1))\n",
    "\n",
    "#             df_dr[i] = c*(p1+p2)\n",
    "\n",
    "#             coeff = (4 * np.pi * kappa * r_array[i]) / \\\n",
    "#                 (0.5 * G * m_array[i] * (m_next - m_prev))\n",
    "\n",
    "#             df_drp1[i] = - coeff * (3**gamma) * ((m_next - m_array[i]) ** gamma) * 12 * np.pi * (\n",
    "#                 r_next ** 2) * gamma * ((4*np.pi*(r_next**3) - 4*np.pi*(r_array[i] ** 3)) ** (-gamma-1))\n",
    "\n",
    "#             df_drm1[i] = coeff * (3**gamma) * ((m_array[i] - m_prev) ** gamma) * 12 * np.pi * (\n",
    "#                 r_prev ** 2) * gamma * ((4*np.pi*(r_array[i]**3) - 4*np.pi*(r_prev ** 3)) ** (-gamma-1))\n",
    "\n",
    "#     J = np.diag(df_dr) + np.diag(df_drm1[1:],\n",
    "#                                  k=-1) + np.diag(df_drp1[:-1], k=1)\n",
    "#     return J\n",
    "\n",
    "# NUMERICAL SOLUTION \n",
    "def hydrostatic_jacobian(func, m_array, r_array, kappa, gamma, eps=1.0000001):\n",
    "    n = len(m_array)\n",
    "    J = np.zeros((n, n))\n",
    "\n",
    "    for i in range(n):\n",
    "        f_orig = func(m_array, r_array, kappa, gamma)\n",
    "        for j in range(max(0, i-1), min(n, i+2)):\n",
    "            r_array_eps = r_array.copy()\n",
    "            r_array_eps[j] *= eps\n",
    "            f_eps = func(m_array, r_array_eps, kappa, gamma)\n",
    "            J[i, j] = (f_eps[i] - f_orig[i]) / (r_array[j] * (eps - 1))\n",
    "\n",
    "    return J"
   ]
  },
  {
   "cell_type": "markdown",
   "metadata": {},
   "source": [
    "##### Explanation: \n",
    "I did not succeed in solving analytically and could not find the error in my calculations - so I used the numerical method. "
   ]
  },
  {
   "cell_type": "markdown",
   "metadata": {},
   "source": [
    "---"
   ]
  },
  {
   "cell_type": "markdown",
   "metadata": {},
   "source": [
    "### Part 4:"
   ]
  },
  {
   "cell_type": "markdown",
   "metadata": {},
   "source": [
    "The function for finding the solution according to parameters: "
   ]
  },
  {
   "cell_type": "code",
   "execution_count": 93,
   "metadata": {},
   "outputs": [],
   "source": [
    "def find_star_solution(n, gamma, M=1, R=1, initial_guess=None, print_rho=0):\n",
    "    if (gamma == 5/3):\n",
    "        kappa = 3.15e12\n",
    "    elif (gamma == 4/3):\n",
    "        kappa = 4.9e14\n",
    "    else:\n",
    "        raise ValueError(\"The gamma value must be 5/3 or 4/3.\")\n",
    "\n",
    "    r_array = np.linspace(R/n, R, n)\n",
    "    m_array = np.linspace(M/n, M, n)\n",
    "\n",
    "    if print_rho == 1:\n",
    "        rho_array = rho_values(r_array, m_array)\n",
    "        print(\"ρ array: \", rho_array)\n",
    "        plt.plot(r_array, rho_array)\n",
    "        plt.xlabel(\"radius in R⊙\")\n",
    "        plt.ylabel(\"ρ values\")\n",
    "        plt.grid()\n",
    "        plt.show()\n",
    "\n",
    "    def f(x):\n",
    "        return hydrostatic_function(m_array, x, kappa, gamma)\n",
    "\n",
    "    def jacobian(x):\n",
    "        return hydrostatic_jacobian(hydrostatic_function, m_array, x, kappa, gamma)\n",
    "\n",
    "    if initial_guess is None:\n",
    "        initial_guess = r_array.copy()\n",
    "\n",
    "    return newton_raphson_search(f, jacobian, initial_guess, eps=1e-6)"
   ]
  },
  {
   "cell_type": "markdown",
   "metadata": {},
   "source": [
    "---"
   ]
  },
  {
   "cell_type": "markdown",
   "metadata": {},
   "source": [
    "### Part 5:\n"
   ]
  },
  {
   "cell_type": "markdown",
   "metadata": {},
   "source": [
    "Helper function to print the vectors pretty: "
   ]
  },
  {
   "cell_type": "code",
   "execution_count": 94,
   "metadata": {},
   "outputs": [],
   "source": [
    "def print_vector(vector, num_values=3):\n",
    "    start_values = vector[:num_values]\n",
    "    end_values = vector[-num_values:]\n",
    "\n",
    "    start_values_formatted = [f\"{x:.6f}\" for x in start_values]\n",
    "    end_values_formatted = [f\"{x:.6f}\" for x in end_values]\n",
    "\n",
    "    if len(vector) <= 2 * num_values:\n",
    "        formatted_output = \" \".join(f\"{x:.6f}\" for x in vector)\n",
    "        print(f\"[{formatted_output}]\")\n",
    "    else:\n",
    "        formatted_output = \" \".join(\n",
    "            start_values_formatted) + \" ... \" + \" \".join(end_values_formatted)\n",
    "        print(f\"[{formatted_output}]\")"
   ]
  },
  {
   "cell_type": "markdown",
   "metadata": {},
   "source": [
    "The test: "
   ]
  },
  {
   "cell_type": "code",
   "execution_count": 95,
   "metadata": {},
   "outputs": [
    {
     "name": "stdout",
     "output_type": "stream",
     "text": [
      "Solution:\n",
      "ρ array:  [2.38732415e+03 3.41046307e+02 1.25648639e+02 6.45222742e+01\n",
      " 3.91364614e+01 2.62343313e+01 1.87978279e+01 1.41261784e+01\n",
      " 1.10014938e+01 8.80931419e+00 7.21245966e+00 6.01341095e+00\n",
      " 5.09024338e+00 4.36439515e+00 3.78339801e+00 3.31112919e+00\n",
      " 2.92206138e+00 2.59774118e+00 2.32456100e+00 2.09230863e+00\n",
      " 1.89319916e+00 1.72121424e+00 1.57164197e+00 1.44075084e+00\n",
      " 1.32555477e+00 1.22364128e+00 1.13304421e+00 1.05214815e+00\n",
      " 9.79615981e-01 9.14333262e-01 8.55365155e-01 8.01922790e-01\n",
      " 7.53336745e-01 7.09035981e-01 6.68530985e-01 6.31400197e-01\n",
      " 5.97278996e-01 5.65850710e-01 5.36839250e-01 5.10003022e-01\n",
      " 4.85129881e-01 4.62032929e-01 4.40546991e-01 4.20525656e-01\n",
      " 4.01838772e-01 3.84370334e-01 3.68016671e-01 3.52684909e-01\n",
      " 3.38291646e-01 3.24761821e-01 3.12027728e-01 3.00028170e-01\n",
      " 2.88707721e-01 2.78016088e-01 2.67907546e-01 2.58340455e-01\n",
      " 2.49276824e-01 2.40681938e-01 2.32524023e-01 2.24773952e-01\n",
      " 2.17404986e-01 2.10392540e-01 2.03713981e-01 1.97348446e-01\n",
      " 1.91276672e-01 1.85480860e-01 1.79944535e-01 1.74652436e-01\n",
      " 1.69590406e-01 1.64745300e-01 1.60104899e-01 1.55657830e-01\n",
      " 1.51393503e-01 1.47302039e-01 1.43374221e-01 1.39601435e-01\n",
      " 1.35975631e-01 1.32489269e-01 1.29135292e-01 1.25907080e-01\n",
      " 1.22798423e-01 1.19803490e-01 1.16916800e-01 1.14133200e-01\n",
      " 1.11447838e-01 1.08856146e-01 1.06353818e-01 1.03936791e-01\n",
      " 1.01601232e-01 9.93435207e-02 9.71602355e-02 9.50481406e-02\n",
      " 9.30041742e-02 9.10254374e-02 8.91091839e-02 8.72528104e-02\n",
      " 8.54538478e-02 8.37099529e-02 8.20189008e-02 8.03785780e-02]\n"
     ]
    },
    {
     "data": {
      "image/png": "[encoded data removed]",
      "text/plain": [
       "<Figure size 640x480 with 1 Axes>"
      ]
     },
     "metadata": {},
     "output_type": "display_data"
    },
    {
     "name": "stdout",
     "output_type": "stream",
     "text": [
      "Converged in 76 iterations.\n",
      "[0.001513 0.001917 0.002205 ... 0.011162 0.011517 0.012205]\n",
      "Mean of the radius value for star with mass 𝑀⊙ in R⊙: 0.006633\n"
     ]
    }
   ],
   "source": [
    "print(\"Solution:\")\n",
    "sol = find_star_solution(100, 5/3,  print_rho=1)/(7e10 * (2e33 ** (1/3)))\n",
    "print_vector(sol)\n",
    "print(\"Mean of the radius value for star with mass 𝑀⊙ in R⊙:\",\n",
    "      f\"{np.mean(sol):.6f}\")"
   ]
  },
  {
   "cell_type": "markdown",
   "metadata": {},
   "source": [
    "##### Explanation: \n",
    "\n",
    "We can see that the radius of the start with the same mass as sun will be ~0.006 of the radius of the Sun, as expected. Also we can see that most of the density is at the core, and it falls rapidly towards the outer edge. "
   ]
  },
  {
   "cell_type": "markdown",
   "metadata": {},
   "source": [
    "---"
   ]
  },
  {
   "cell_type": "markdown",
   "metadata": {},
   "source": [
    "### Part 6: "
   ]
  },
  {
   "cell_type": "code",
   "execution_count": 96,
   "metadata": {},
   "outputs": [
    {
     "name": "stdout",
     "output_type": "stream",
     "text": [
      "Converged in 76 iterations.\n",
      "Solution for mass 1 * 𝑀⊙: \n",
      "[0.001513 0.001917 0.002205 ... 0.011162 0.011517 0.012205]\n",
      "Converged in 75 iterations.\n",
      "Solution for mass 2 * 𝑀⊙: \n",
      "[0.001201 0.001522 0.001750 ... 0.008859 0.009141 0.009687]\n",
      "Converged in 75 iterations.\n",
      "Solution for mass 3 * 𝑀⊙: \n",
      "[0.001049 0.001329 0.001529 ... 0.007739 0.007986 0.008463]\n",
      "Converged in 75 iterations.\n",
      "Solution for mass 4 * 𝑀⊙: \n",
      "[0.000953 0.001208 0.001389 ... 0.007032 0.007255 0.007689]\n",
      "Converged in 75 iterations.\n",
      "Solution for mass 5 * 𝑀⊙: \n",
      "[0.000885 0.001121 0.001290 ... 0.006528 0.006735 0.007138]\n",
      "RM^1/3 value for mass 1 * 𝑀⊙: 0.006633\n",
      "RM^1/3 value for mass 2 * 𝑀⊙: 0.006633\n",
      "RM^1/3 value for mass 3 * 𝑀⊙: 0.006633\n",
      "RM^1/3 value for mass 4 * 𝑀⊙: 0.006633\n",
      "RM^1/3 value for mass 5 * 𝑀⊙: 0.006633\n"
     ]
    }
   ],
   "source": [
    "radiuses = np.zeros(6)\n",
    "sol = np.zeros(100)\n",
    "for i in range(1, 6):\n",
    "    sol = find_star_solution(100, 5/3, i)/(7e10 * (2e33 ** (1/3)))\n",
    "    print(f\"Solution for mass {i} * 𝑀⊙: \")\n",
    "    print_vector(sol)\n",
    "    radiuses[i] = np.mean(sol)\n",
    "\n",
    "for i in range(1, 6):\n",
    "    rm_value = (radiuses[i]) * (i ** (1/3))\n",
    "    print(f\"RM^1/3 value for mass {i} * 𝑀⊙: {rm_value:.6f}\")"
   ]
  },
  {
   "cell_type": "markdown",
   "metadata": {},
   "source": [
    "##### Explanation: \n",
    "\n",
    "We can see that for different masses (1 to 5 of mass of the Sun) we still get the same $RM^{1/3} = 0.006$ value, as expected."
   ]
  },
  {
   "cell_type": "markdown",
   "metadata": {},
   "source": [
    "---"
   ]
  },
  {
   "cell_type": "markdown",
   "metadata": {},
   "source": [
    "### Part 7: "
   ]
  },
  {
   "cell_type": "code",
   "execution_count": 97,
   "metadata": {},
   "outputs": [
    {
     "ename": "ValueError",
     "evalue": "Unable to find a valid step to reduce the function value.",
     "output_type": "error",
     "traceback": [
      "\u001b[0;31m---------------------------------------------------------------------------\u001b[0m",
      "\u001b[0;31mValueError\u001b[0m                                Traceback (most recent call last)",
      "Cell \u001b[0;32mIn[97], line 6\u001b[0m\n\u001b[1;32m      4\u001b[0m sol \u001b[38;5;241m=\u001b[39m np\u001b[38;5;241m.\u001b[39mzeros(\u001b[38;5;241m100\u001b[39m)\n\u001b[1;32m      5\u001b[0m \u001b[38;5;28;01mfor\u001b[39;00m i \u001b[38;5;129;01min\u001b[39;00m \u001b[38;5;28mrange\u001b[39m(\u001b[38;5;241m0\u001b[39m, \u001b[38;5;28mlen\u001b[39m(masses)):\n\u001b[0;32m----> 6\u001b[0m     sol \u001b[38;5;241m=\u001b[39m \u001b[43mfind_star_solution\u001b[49m\u001b[43m(\u001b[49m\u001b[38;5;241;43m100\u001b[39;49m\u001b[43m,\u001b[49m\u001b[43m \u001b[49m\u001b[43mgamma\u001b[49m\u001b[43m,\u001b[49m\u001b[43m \u001b[49m\u001b[43mmasses\u001b[49m\u001b[43m[\u001b[49m\u001b[43mi\u001b[49m\u001b[43m]\u001b[49m\u001b[43m)\u001b[49m\u001b[38;5;241m/\u001b[39m(\u001b[38;5;241m7e10\u001b[39m \u001b[38;5;241m*\u001b[39m (\u001b[38;5;241m2e33\u001b[39m \u001b[38;5;241m*\u001b[39m\u001b[38;5;241m*\u001b[39m (\u001b[38;5;241m1\u001b[39m\u001b[38;5;241m/\u001b[39m\u001b[38;5;241m3\u001b[39m)))\n\u001b[1;32m      7\u001b[0m     \u001b[38;5;28mprint\u001b[39m(\u001b[38;5;124mf\u001b[39m\u001b[38;5;124m\"\u001b[39m\u001b[38;5;124mSolution for mass \u001b[39m\u001b[38;5;132;01m{\u001b[39;00mmasses[i]\u001b[38;5;132;01m}\u001b[39;00m\u001b[38;5;124m * 𝑀⊙: \u001b[39m\u001b[38;5;124m\"\u001b[39m)\n\u001b[1;32m      8\u001b[0m     print_vector(sol)\n",
      "Cell \u001b[0;32mIn[93], line 30\u001b[0m, in \u001b[0;36mfind_star_solution\u001b[0;34m(n, gamma, M, R, initial_guess, print_rho)\u001b[0m\n\u001b[1;32m     27\u001b[0m \u001b[38;5;28;01mif\u001b[39;00m initial_guess \u001b[38;5;129;01mis\u001b[39;00m \u001b[38;5;28;01mNone\u001b[39;00m:\n\u001b[1;32m     28\u001b[0m     initial_guess \u001b[38;5;241m=\u001b[39m r_array\u001b[38;5;241m.\u001b[39mcopy()\n\u001b[0;32m---> 30\u001b[0m \u001b[38;5;28;01mreturn\u001b[39;00m \u001b[43mnewton_raphson_search\u001b[49m\u001b[43m(\u001b[49m\u001b[43mf\u001b[49m\u001b[43m,\u001b[49m\u001b[43m \u001b[49m\u001b[43mjacobian\u001b[49m\u001b[43m,\u001b[49m\u001b[43m \u001b[49m\u001b[43minitial_guess\u001b[49m\u001b[43m,\u001b[49m\u001b[43m \u001b[49m\u001b[43meps\u001b[49m\u001b[38;5;241;43m=\u001b[39;49m\u001b[38;5;241;43m1e-6\u001b[39;49m\u001b[43m)\u001b[49m\n",
      "Cell \u001b[0;32mIn[87], line 33\u001b[0m, in \u001b[0;36mnewton_raphson_search\u001b[0;34m(f, jacobian, initial_guess, eps)\u001b[0m\n\u001b[1;32m     31\u001b[0m         f_factor \u001b[38;5;241m*\u001b[39m\u001b[38;5;241m=\u001b[39m \u001b[38;5;241m0.5\u001b[39m\n\u001b[1;32m     32\u001b[0m     \u001b[38;5;28;01melse\u001b[39;00m:\n\u001b[0;32m---> 33\u001b[0m         \u001b[38;5;28;01mraise\u001b[39;00m \u001b[38;5;167;01mValueError\u001b[39;00m(\n\u001b[1;32m     34\u001b[0m             \u001b[38;5;124m\"\u001b[39m\u001b[38;5;124mUnable to find a valid step to reduce the function value.\u001b[39m\u001b[38;5;124m\"\u001b[39m)\n\u001b[1;32m     36\u001b[0m \u001b[38;5;28;01mif\u001b[39;00m \u001b[38;5;28mabs\u001b[39m(np\u001b[38;5;241m.\u001b[39mlinalg\u001b[38;5;241m.\u001b[39mnorm(F)) \u001b[38;5;241m<\u001b[39m eps:  \u001b[38;5;66;03m# Check for convergence\u001b[39;00m\n\u001b[1;32m     37\u001b[0m     \u001b[38;5;28mprint\u001b[39m(\u001b[38;5;124mf\u001b[39m\u001b[38;5;124m\"\u001b[39m\u001b[38;5;124mConverged in \u001b[39m\u001b[38;5;132;01m{\u001b[39;00miteration\u001b[38;5;241m+\u001b[39m\u001b[38;5;241m1\u001b[39m\u001b[38;5;132;01m}\u001b[39;00m\u001b[38;5;124m iterations.\u001b[39m\u001b[38;5;124m\"\u001b[39m)\n",
      "\u001b[0;31mValueError\u001b[0m: Unable to find a valid step to reduce the function value."
     ]
    }
   ],
   "source": [
    "masses = [1.40, 1.41, 1.42, 1.43, 1.44, 1.45, 1.46]\n",
    "radiuses = np.zeros(len(masses))\n",
    "gamma = 4/3\n",
    "sol = np.zeros(100)\n",
    "for i in range(0, len(masses)):\n",
    "    sol = find_star_solution(100, gamma, masses[i])/(7e10 * (2e33 ** (1/3)))\n",
    "    print(f\"Solution for mass {masses[i]} * 𝑀⊙: \")\n",
    "    print_vector(sol)\n",
    "    radiuses[i] = np.mean(sol)\n",
    "\n",
    "for i in range(0, len(masses)):\n",
    "    rm_value = radiuses[i]\n",
    "    print(\n",
    "        f\"RM^1/3 value for mass {masses[i]} * 𝑀⊙: {(rm_value * (masses[i] ** (1/3))):.6f}\")"
   ]
  },
  {
   "cell_type": "markdown",
   "metadata": {},
   "source": [
    "##### Explanation: \n",
    "I could not make it work with $\\gamma = 4/3$, although I tried different intial conditions (for example those that are closer to the expected value) - somehow the function does not converge. As can be seen in the next part - the solution for $\\gamma = 4/3$ is very unstable and depends largely on initial conditions - so even if in the other cases the function that I wrote did succed to find the values, here it did not work. Also I suspect that numerical Jacobian using 2 points and not proper analytical one may lead to this issue. "
   ]
  },
  {
   "cell_type": "markdown",
   "metadata": {},
   "source": [
    "---"
   ]
  },
  {
   "cell_type": "markdown",
   "metadata": {},
   "source": [
    "### Part 8: "
   ]
  },
  {
   "cell_type": "code",
   "execution_count": 98,
   "metadata": {},
   "outputs": [],
   "source": [
    "def find_star_solution_with_scipy(n, gamma, m=1, r=1, initial_guess=None):\n",
    "    if gamma == 5/3:\n",
    "        kappa = 3.15 * 10**12\n",
    "    elif gamma == 4/3:\n",
    "        kappa = 4.9 * 10**14\n",
    "    else:\n",
    "        raise ValueError(\"The gamma value must be 5/3 or 4/3.\")\n",
    "\n",
    "    r_array = np.linspace(r/n, r, n)\n",
    "    m_array = np.linspace(m/n, m, n)\n",
    "\n",
    "    def f(x):\n",
    "        return hydrostatic_function(m_array, x, kappa, gamma)\n",
    "\n",
    "    def jacobian(x):\n",
    "        return hydrostatic_jacobian(hydrostatic_function, m_array, x, kappa, gamma)\n",
    "\n",
    "    if initial_guess is None:\n",
    "        initial_guess = r_array.copy()\n",
    "\n",
    "    # return fsolve(func=f, fprime=jacobian, x0=initial_guess)\n",
    "    return root(fun=f, jac=jacobian, x0=initial_guess, method='lm')"
   ]
  },
  {
   "cell_type": "code",
   "execution_count": 99,
   "metadata": {},
   "outputs": [
    {
     "name": "stdout",
     "output_type": "stream",
     "text": [
      "Solution for star #1:\n",
      "[0.001513 0.001917 0.002205 ... 0.011162 0.011517 0.012205]\n",
      "0.0066325400576667005\n",
      "\n",
      "\n",
      "Solution for star #2:\n",
      "[0.000000 0.000000 0.000000 ... 0.000000 0.000000 0.000000]\n",
      "4.2537581821031123e-20\n",
      "\n",
      "\n"
     ]
    }
   ],
   "source": [
    "# first star \n",
    "m = 1\n",
    "print(\"Solution for star #1:\")\n",
    "sol1 = find_star_solution_with_scipy(100, 5/3, m, 1).x/(7e10 * (2e33 ** (1/3)))\n",
    "print_vector(sol1)\n",
    "print(np.mean(sol1) * (m**(1/3)))\n",
    "print(\"\\n\")\n",
    "\n",
    "# second star\n",
    "m=1.42\n",
    "print(\"Solution for star #2:\")\n",
    "sol2 = find_star_solution_with_scipy(\n",
    "    100, 4/3, m, 1).x/(7e10 * (2e33 ** (1/3)))\n",
    "print_vector(sol2)\n",
    "print(np.mean(sol2) * (m**(1/3)))\n",
    "print(\"\\n\")"
   ]
  },
  {
   "cell_type": "markdown",
   "metadata": {},
   "source": [
    "##### Explanation: \n",
    "I used function scipy.optimize.root to find the solution instead of my Newton - Raphson function. For the first star i got the expected result: ~0.006 for value of $RM^{1/3}$. For the second function, the result was 0 - I think that the function is unable to find the solution for $\\gamma = 4/3$ because it is very sensitive to the initial conditions. Maybe the probleme also lies in te fact that I used numerical and not analytical solution for Jacobian."
   ]
  }
 ],
 "metadata": {
  "kernelspec": {
   "display_name": "Python 3",
   "language": "python",
   "name": "python3"
  },
  "language_info": {
   "codemirror_mode": {
    "name": "ipython",
    "version": 3
   },
   "file_extension": ".py",
   "mimetype": "text/x-python",
   "name": "python",
   "nbconvert_exporter": "python",
   "pygments_lexer": "ipython3",
   "version": "3.11.4"
  }
 },
 "nbformat": 4,
 "nbformat_minor": 2
}
