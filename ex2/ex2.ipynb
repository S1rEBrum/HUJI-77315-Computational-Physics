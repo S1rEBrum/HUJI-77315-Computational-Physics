{
 "cells": [
  {
   "cell_type": "code",
   "execution_count": 77,
   "metadata": {},
   "outputs": [],
   "source": [
    "import numpy as np # type: ignore"
   ]
  },
  {
   "cell_type": "markdown",
   "metadata": {},
   "source": [
    "First helper function: linear interpolation"
   ]
  },
  {
   "cell_type": "code",
   "execution_count": 78,
   "metadata": {},
   "outputs": [],
   "source": [
    "def linear_interpolation(x, y, x1):\n",
    "    n = len(x)\n",
    "    for i in range(n-1):\n",
    "        if x[i] <= x1 <= x[i+1]:\n",
    "            return ((x1 - x[i-1]) * y[i] + (x[i] - x1) * y[i-1]) / (x[i] - x[i-1])"
   ]
  },
  {
   "cell_type": "markdown",
   "metadata": {},
   "source": [
    "Second helper function: Lagrange 4-point interpolation"
   ]
  },
  {
   "cell_type": "code",
   "execution_count": 79,
   "metadata": {},
   "outputs": [],
   "source": [
    "def lagrange4_interpolation(x, y, x1):\n",
    "    n = len(x)\n",
    "\n",
    "    # take care of the case in which x1 is out of boundaries (because we need 2 extra points)\n",
    "    if x1 < x[1]:\n",
    "        return y[1]\n",
    "    elif x1 > x[n-2]:\n",
    "        return y[n-2]\n",
    "    else:\n",
    "        # \"brute force\" search (assuming small table)\n",
    "        for i in range(1, n-1):\n",
    "            if x[i] <= x1 <= x[i+1]:\n",
    "                break\n",
    "\n",
    "    # Ensure indices are within bounds\n",
    "    i = max(2, min(i, n-2))\n",
    "\n",
    "    x_points = x[i-2:i+2]\n",
    "    y_points = y[i-2:i+2]\n",
    "\n",
    "    # helper function to build the polinomes\n",
    "    def polinome(k, x_val):\n",
    "        term = 1\n",
    "        for j in range(4):\n",
    "            if j != k:\n",
    "                term *= (x_val - x_points[j]) / (x_points[k] - x_points[j])\n",
    "        return term\n",
    "\n",
    "    P = 0\n",
    "    for k in range(4):\n",
    "        P += y_points[k] * polinome(k, x1)\n",
    "    return P"
   ]
  },
  {
   "cell_type": "markdown",
   "metadata": {},
   "source": [
    "Third helper function: Hermit 4-point interpolation"
   ]
  },
  {
   "cell_type": "code",
   "execution_count": 80,
   "metadata": {},
   "outputs": [],
   "source": [
    "def hermit4_interpolation(x, y, x1):\n",
    "    n = len(x)\n",
    "\n",
    "    # take care of the case in which x1 is out of boundaries (because we need 2 extra points)\n",
    "    if x1 < x[1]:\n",
    "        return y[1]\n",
    "    elif x1 > x[n-2]:\n",
    "        return y[n-2]\n",
    "    else:\n",
    "        # \"brute force\" search (assuming small table)\n",
    "        for i in range(1, n-1):\n",
    "            if x[i] <= x1 <= x[i+1]:\n",
    "                break\n",
    "\n",
    "    # Ensure indices are within bounds\n",
    "    i = max(1, min(i, n-2))\n",
    "\n",
    "    # calculate the derivatives\n",
    "    dy = np.zeros(n)\n",
    "    for j in range(1, n-1):\n",
    "        hf = x[j+1] - x[j]\n",
    "        hb = x[j] - x[j-1]\n",
    "        dy[j] = (y[j+1] / (2 * hf)) + y[j] * \\\n",
    "            ((hf - hb) / (2 * hf * hb)) - (y[j-1] / (2 * hb))\n",
    "\n",
    "    x0_, x1_ = x[i], x[i+1]\n",
    "    y0_, y1_ = y[i], y[i+1]\n",
    "    dy0_, dy1_ = dy[i], dy[i+1]\n",
    "\n",
    "    # Basis functions for Hermite interpolation\n",
    "    def g1(x):\n",
    "        return ((x - x0_) * (x - x1_)**2) / (x0_ - x1_)**2\n",
    "\n",
    "    def g2(x):\n",
    "        return ((x - x1_) * (x - x0_)**2) / (x1_ - x0_)**2\n",
    "\n",
    "    def f1(x):\n",
    "        return ((x - x1_)**2 / (x0_ - x1_)**2) - (2 * g1(x) / (x0_ - x1_))\n",
    "\n",
    "    def f2(x):\n",
    "        return ((x - x0_)**2 / (x1_ - x0_)**2) - (2 * g2(x) / (x1_ - x0_))\n",
    "\n",
    "    # Hermite interpolation formula\n",
    "    interpolation = (g1(x1) * dy0_ + f1(x1) * y0_ +\n",
    "                     g2(x1) * dy1_ + f2(x1) * y1_)\n",
    "\n",
    "    return interpolation"
   ]
  },
  {
   "cell_type": "markdown",
   "metadata": {},
   "source": [
    "Partial derivation of the formula for 3-point derivative with unevenly spacede intervals: \n",
    "<div>\n",
    "<img src=\"IMG_1978.jpg\" width=\"1000\"/>\n",
    "</div>\n"
   ]
  },
  {
   "cell_type": "markdown",
   "metadata": {},
   "source": [
    "### The main function: "
   ]
  },
  {
   "cell_type": "code",
   "execution_count": 81,
   "metadata": {},
   "outputs": [],
   "source": [
    "def interp(x, y, x1, itype):\n",
    "    # x - an ordered one-dimensional numpy array of size n\n",
    "    # y - is one-dimensional numpy array of the same size\n",
    "    # x1 - a number larger than x[0] and smaller than x[n-1]\n",
    "    # itype - either 'Linear', 'Lagrange4' or 'Hermit4'\n",
    "    # The function returns the \"y\" value of x1 according to the requested type of interpolation\n",
    "    if itype == 'Linear':\n",
    "        return linear_interpolation(x, y, x1)\n",
    "    elif itype == 'Lagrange4':\n",
    "        return lagrange4_interpolation(x, y, x1)\n",
    "    elif itype == 'Hermit4':\n",
    "        return hermit4_interpolation(x, y, x1)\n",
    "    else:\n",
    "        raise ValueError(\n",
    "            \"Invalid interpolation type. Choose 'Linear', 'Lagrange4', or 'Hermit4'.\")"
   ]
  },
  {
   "cell_type": "markdown",
   "metadata": {},
   "source": [
    "We will use the following lines to initialize the arrays \n",
    "(x is not equally spaced 1-dimensional array starting from 0 to 100. It's the sum of two $1D$ arrays, the first is equally spaced from 1 to 99 with difference of 1  and the second consists of 99 random numbers in the range of $-1/3$ to $+1/3$):"
   ]
  },
  {
   "cell_type": "code",
   "execution_count": 82,
   "metadata": {},
   "outputs": [],
   "source": [
    "npoints = 101\n",
    "xmax = 10.\n",
    "np.random.seed(12345)\n",
    "x = np.arange(npoints,dtype=\"float64\")\n",
    "x[npoints-1] = xmax\n",
    "r = np.random.rand(npoints-2)\n",
    "x[1:npoints-1] = (x[1:npoints-1] + (r[0:npoints-2]-0.5)/1.5) * xmax/(npoints-1)\n",
    "y=np.sin(x)\n",
    "ntests = 10\n",
    "x_test = np.random.rand(ntests) * xmax"
   ]
  },
  {
   "cell_type": "markdown",
   "metadata": {},
   "source": [
    "x_test is one-dimensional numpy array of size 10 that holds test points for the interpolations.\n",
    "Lets compare 'Linear', 'Lagrange4' or 'Hermit4' interpolations using commans like the following, which are given for linear interpolation:"
   ]
  },
  {
   "cell_type": "code",
   "execution_count": 83,
   "metadata": {},
   "outputs": [],
   "source": [
    "y_interp_linear = np.zeros(ntests)\n",
    "y_interp_lagrange = np.zeros(ntests)\n",
    "y_interp_hermit = np.zeros(ntests)\n",
    "\n",
    "for i in range(ntests):\n",
    "    y_interp_linear[i] = interp(x, y, x_test[i], 'Linear')\n",
    "    y_interp_lagrange[i] = interp(x, y, x_test[i], 'Lagrange4')\n",
    "    y_interp_hermit[i] = interp(x, y, x_test[i], 'Hermit4')"
   ]
  },
  {
   "cell_type": "markdown",
   "metadata": {},
   "source": [
    "Lets use the following function for printout of each type of interpolation:"
   ]
  },
  {
   "cell_type": "code",
   "execution_count": 84,
   "metadata": {},
   "outputs": [],
   "source": [
    "def print_out(xv,yv):\n",
    "    print('%18s %12.4e' % ('max. error was:',np.amax(np.abs(yv-np.sin(xv)))))\n",
    "    print('%12s %12s %12s' % ('test_x', 'y_interp', 'error'))\n",
    "    for i in range(ntests):\n",
    "        print('%12.4e %12.4e %12.4e' % (xv[i], yv[i], yv[i]-np.sin(xv[i])))\n",
    "    return"
   ]
  },
  {
   "cell_type": "markdown",
   "metadata": {},
   "source": [
    "---"
   ]
  },
  {
   "cell_type": "markdown",
   "metadata": {},
   "source": [
    "Result for linear interpolation: "
   ]
  },
  {
   "cell_type": "code",
   "execution_count": 85,
   "metadata": {},
   "outputs": [
    {
     "name": "stdout",
     "output_type": "stream",
     "text": [
      "   max. error was:   4.7076e-03\n",
      "      test_x     y_interp        error\n",
      "  4.2715e-01   4.1551e-01   1.2295e-03\n",
      "  1.9579e+00   9.2768e-01   1.6958e-03\n",
      "  2.9450e+00   1.9574e-01   4.2134e-04\n",
      "  6.2700e+00  -1.3915e-02  -7.2873e-04\n",
      "  8.6223e-01   7.6175e-01   2.4509e-03\n",
      "  1.4295e+00   9.9444e-01   4.4114e-03\n",
      "  5.1583e+00  -9.0694e-01  -4.7076e-03\n",
      "  6.8934e+00   5.7689e-01   3.8308e-03\n",
      "  8.5663e+00   7.6145e-01   4.5726e-03\n",
      "  6.4736e+00   1.9010e-01   8.1704e-04\n"
     ]
    }
   ],
   "source": [
    "print_out(x_test, y_interp_linear)"
   ]
  },
  {
   "cell_type": "markdown",
   "metadata": {},
   "source": [
    "Result for 4-point Lagrange interpolation: "
   ]
  },
  {
   "cell_type": "code",
   "execution_count": 86,
   "metadata": {},
   "outputs": [
    {
     "name": "stdout",
     "output_type": "stream",
     "text": [
      "   max. error was:   4.1728e-06\n",
      "      test_x     y_interp        error\n",
      "  4.2715e-01   4.1428e-01   1.8644e-06\n",
      "  1.9579e+00   9.2599e-01   1.9187e-06\n",
      "  2.9450e+00   1.9532e-01   2.6011e-07\n",
      "  6.2700e+00  -1.3187e-02  -5.4423e-07\n",
      "  8.6223e-01   7.5930e-01   2.7952e-06\n",
      "  1.4295e+00   9.9003e-01   4.1728e-06\n",
      "  5.1583e+00  -9.0224e-01  -1.8862e-06\n",
      "  6.8934e+00   5.7306e-01   3.3370e-06\n",
      "  8.5663e+00   7.5688e-01   3.6755e-06\n",
      "  6.4736e+00   1.8928e-01   2.2083e-08\n"
     ]
    }
   ],
   "source": [
    "print_out(x_test, y_interp_lagrange)"
   ]
  },
  {
   "cell_type": "markdown",
   "metadata": {},
   "source": [
    "Result for 4-point Hermit interpolation: "
   ]
  },
  {
   "cell_type": "code",
   "execution_count": 87,
   "metadata": {},
   "outputs": [
    {
     "name": "stdout",
     "output_type": "stream",
     "text": [
      "   max. error was:   1.8789e-04\n",
      "      test_x     y_interp        error\n",
      "  4.2715e-01   4.1420e-01  -8.3681e-05\n",
      "  1.9579e+00   9.2607e-01   8.1797e-05\n",
      "  2.9450e+00   1.9535e-01   3.3899e-05\n",
      "  6.2700e+00  -1.3172e-02   1.3671e-05\n",
      "  8.6223e-01   7.5920e-01  -1.0013e-04\n",
      "  1.4295e+00   9.9004e-01   1.2905e-05\n",
      "  5.1583e+00  -9.0242e-01  -1.8789e-04\n",
      "  6.8934e+00   5.7289e-01  -1.6625e-04\n",
      "  8.5663e+00   7.5674e-01  -1.3634e-04\n",
      "  6.4736e+00   1.8929e-01   5.9271e-06\n"
     ]
    }
   ],
   "source": [
    "print_out(x_test, y_interp_hermit)"
   ]
  },
  {
   "cell_type": "markdown",
   "metadata": {},
   "source": [
    "### Explanation:\n",
    "According to what we have seen in class, lets summarize the benefits and drawbacks of each type of interpolation: \n",
    "\n",
    "|           | Linear | 4-point Lagrange | 4-point Hermit |\n",
    "| --------  | ------ | ---------------- | -------------- | \n",
    "| Benefits  | Simple and fast. Suitable for real-time applications where speed is crucial. | More accurate for smooth functions. Captures more detail of the data's shape. | High accuracy with smooth first derivatives. Suitable for smooth functions with known derivatives. |\n",
    "| Drawbacks | Less accurate for non-linear functions. | Requires more points and is more computationally intensive. | Most complex and computationally intensive. |\n",
    "| Error | $O(h^{2})$ | $O(h^{6})$ | $O(h^{5})$ |\n",
    "\n",
    "According to data that we got, for the example data that was given, we get the least error using Lagrange interpolation - the expected result - because the linear is not accurate enough and Hermit is more suitable for function with known first derivative - in our case we calculated it artificially and used 3-point formula, so we got certain amount of error (possibly cumulative computational error) in the derivative.  We did get approximately the same order of magnitude of error in all of the methods. \n",
    "\n"
   ]
  },
  {
   "cell_type": "markdown",
   "metadata": {},
   "source": [
    "---"
   ]
  },
  {
   "cell_type": "markdown",
   "metadata": {},
   "source": [
    "Lets compare the 3 interpolations for more sparse table:"
   ]
  },
  {
   "cell_type": "code",
   "execution_count": 88,
   "metadata": {},
   "outputs": [],
   "source": [
    "y_interp_linear = np.zeros(ntests)\n",
    "y_interp_lagrange = np.zeros(ntests)\n",
    "y_interp_hermit = np.zeros(ntests)\n",
    "\n",
    "for i in range(ntests):\n",
    "    y_interp_linear[i]=interp(x[0:npoints:2],y[0:npoints:2],x_test[i],'Linear')\n",
    "    y_interp_lagrange[i]=interp(x[0:npoints:2],y[0:npoints:2],x_test[i],'Lagrange4')\n",
    "    y_interp_hermit[i]=interp(x[0:npoints:2],y[0:npoints:2],x_test[i],'Hermit4')"
   ]
  },
  {
   "cell_type": "markdown",
   "metadata": {},
   "source": [
    "Result for linear interpolation: "
   ]
  },
  {
   "cell_type": "code",
   "execution_count": 89,
   "metadata": {},
   "outputs": [
    {
     "name": "stdout",
     "output_type": "stream",
     "text": [
      "   max. error was:   3.1216e-02\n",
      "      test_x     y_interp        error\n",
      "  4.2715e-01   4.1611e-01   1.8240e-03\n",
      "  1.9579e+00   9.4847e-01   2.2483e-02\n",
      "  2.9450e+00   2.0285e-01   7.5314e-03\n",
      "  6.2700e+00  -1.4394e-02  -1.2081e-03\n",
      "  8.6223e-01   7.6387e-01   4.5758e-03\n",
      "  1.4295e+00   9.9541e-01   5.3869e-03\n",
      "  5.1583e+00  -9.3345e-01  -3.1216e-02\n",
      "  6.8934e+00   5.7886e-01   5.8088e-03\n",
      "  8.5663e+00   7.8046e-01   2.3586e-02\n",
      "  6.4736e+00   1.9014e-01   8.5728e-04\n"
     ]
    }
   ],
   "source": [
    "print_out(x_test, y_interp_linear)"
   ]
  },
  {
   "cell_type": "markdown",
   "metadata": {},
   "source": [
    "Result for 4-point Lagrange interpolation:"
   ]
  },
  {
   "cell_type": "code",
   "execution_count": 90,
   "metadata": {},
   "outputs": [
    {
     "name": "stdout",
     "output_type": "stream",
     "text": [
      "   max. error was:   6.2757e-05\n",
      "      test_x     y_interp        error\n",
      "  4.2715e-01   4.1429e-01   1.1224e-05\n",
      "  1.9579e+00   9.2605e-01   6.2757e-05\n",
      "  2.9450e+00   1.9533e-01   1.2867e-05\n",
      "  6.2700e+00  -1.3193e-02  -6.5504e-06\n",
      "  8.6223e-01   7.5932e-01   2.6388e-05\n",
      "  1.4295e+00   9.9006e-01   3.3862e-05\n",
      "  5.1583e+00  -9.0226e-01  -2.9503e-05\n",
      "  6.8934e+00   5.7308e-01   2.7025e-05\n",
      "  8.5663e+00   7.5691e-01   3.6250e-05\n",
      "  6.4736e+00   1.8929e-01   3.6740e-06\n"
     ]
    }
   ],
   "source": [
    "print_out(x_test, y_interp_lagrange)"
   ]
  },
  {
   "cell_type": "markdown",
   "metadata": {},
   "source": [
    "Result for 4-point Hermit interpolation: "
   ]
  },
  {
   "cell_type": "code",
   "execution_count": 91,
   "metadata": {},
   "outputs": [
    {
     "name": "stdout",
     "output_type": "stream",
     "text": [
      "   max. error was:   8.4400e-04\n",
      "      test_x     y_interp        error\n",
      "  4.2715e-01   4.1401e-01  -2.6776e-04\n",
      "  1.9579e+00   9.2606e-01   7.1185e-05\n",
      "  2.9450e+00   1.9527e-01  -4.5293e-05\n",
      "  6.2700e+00  -1.3133e-02   5.3595e-05\n",
      "  8.6223e-01   7.5926e-01  -3.3452e-05\n",
      "  1.4295e+00   9.8918e-01  -8.4400e-04\n",
      "  5.1583e+00  -9.0235e-01  -1.1434e-04\n",
      "  6.8934e+00   5.7291e-01  -1.4609e-04\n",
      "  8.5663e+00   7.5685e-01  -2.3225e-05\n",
      "  6.4736e+00   1.8908e-01  -1.9766e-04\n"
     ]
    }
   ],
   "source": [
    "print_out(x_test, y_interp_hermit)"
   ]
  },
  {
   "cell_type": "markdown",
   "metadata": {},
   "source": [
    "### Explanation: \n",
    "We got that in most cases the error is one order of magnitude less than previously. Meaning we got bigger error - as expected from more sparce table, that has less values and bigger gaps between values. I used the \"brute force\" approach to calculate the index, so in bigger table we would get bigger computation time, but in this case it does not differ much. "
   ]
  },
  {
   "cell_type": "markdown",
   "metadata": {},
   "source": [
    "---"
   ]
  },
  {
   "cell_type": "markdown",
   "metadata": {},
   "source": [
    "Also lets compare the results for even more sparce table (smaller by a factor of 4):"
   ]
  },
  {
   "cell_type": "code",
   "execution_count": 92,
   "metadata": {},
   "outputs": [],
   "source": [
    "y_interp_linear = np.zeros(ntests)\n",
    "y_interp_lagrange = np.zeros(ntests)\n",
    "y_interp_hermit = np.zeros(ntests)\n",
    "\n",
    "for i in range(ntests):\n",
    "    y_interp_linear[i]=interp(x[0:npoints:4],y[0:npoints:4],x_test[i],'Linear')\n",
    "    y_interp_lagrange[i]=interp(x[0:npoints:4],y[0:npoints:4],x_test[i],'Lagrange4')\n",
    "    y_interp_hermit[i]=interp(x[0:npoints:4],y[0:npoints:4],x_test[i],'Hermit4')"
   ]
  },
  {
   "cell_type": "markdown",
   "metadata": {},
   "source": [
    "Results for linear interpolation: "
   ]
  },
  {
   "cell_type": "code",
   "execution_count": 93,
   "metadata": {},
   "outputs": [
    {
     "name": "stdout",
     "output_type": "stream",
     "text": [
      "   max. error was:   1.3962e-01\n",
      "      test_x     y_interp        error\n",
      "  4.2715e-01   4.1693e-01   2.6493e-03\n",
      "  1.9579e+00   1.0509e+00   1.2492e-01\n",
      "  2.9450e+00   2.1054e-01   1.5228e-02\n",
      "  6.2700e+00  -3.9765e-02  -2.6579e-02\n",
      "  8.6223e-01   7.6717e-01   7.8781e-03\n",
      "  1.4295e+00   1.0459e+00   5.5858e-02\n",
      "  5.1583e+00  -1.0419e+00  -1.3962e-01\n",
      "  6.8934e+00   5.8206e-01   9.0025e-03\n",
      "  8.5663e+00   7.9280e-01   3.5920e-02\n",
      "  6.4736e+00   1.8950e-01   2.1572e-04\n"
     ]
    }
   ],
   "source": [
    "print_out(x_test, y_interp_linear)"
   ]
  },
  {
   "cell_type": "markdown",
   "metadata": {},
   "source": [
    "Results for 4-point Lagrange interpolation:"
   ]
  },
  {
   "cell_type": "code",
   "execution_count": 94,
   "metadata": {},
   "outputs": [
    {
     "name": "stdout",
     "output_type": "stream",
     "text": [
      "   max. error was:   8.5008e-04\n",
      "      test_x     y_interp        error\n",
      "  4.2715e-01   4.1414e-01  -1.3640e-04\n",
      "  1.9579e+00   9.2666e-01   6.7596e-04\n",
      "  2.9450e+00   1.9567e-01   3.4935e-04\n",
      "  6.2700e+00  -1.3504e-02  -3.1747e-04\n",
      "  8.6223e-01   7.5950e-01   1.9965e-04\n",
      "  1.4295e+00   9.9088e-01   8.5008e-04\n",
      "  5.1583e+00  -9.0249e-01  -2.5989e-04\n",
      "  6.8934e+00   5.7324e-01   1.8300e-04\n",
      "  8.5663e+00   7.5755e-01   6.7365e-04\n",
      "  6.4736e+00   1.8927e-01  -1.5732e-05\n"
     ]
    }
   ],
   "source": [
    "print_out(x_test, y_interp_lagrange)"
   ]
  },
  {
   "cell_type": "markdown",
   "metadata": {},
   "source": [
    "Results for 4-point Hermit interpolation:"
   ]
  },
  {
   "cell_type": "code",
   "execution_count": 95,
   "metadata": {},
   "outputs": [
    {
     "name": "stdout",
     "output_type": "stream",
     "text": [
      "   max. error was:   1.2108e-03\n",
      "      test_x     y_interp        error\n",
      "  4.2715e-01   4.1326e-01  -1.0254e-03\n",
      "  1.9579e+00   9.2520e-01  -7.8611e-04\n",
      "  2.9450e+00   1.9627e-01   9.5867e-04\n",
      "  6.2700e+00  -1.2543e-02   6.4272e-04\n",
      "  8.6223e-01   7.5852e-01  -7.7275e-04\n",
      "  1.4295e+00   9.9024e-01   2.1040e-04\n",
      "  5.1583e+00  -9.0211e-01   1.1936e-04\n",
      "  6.8934e+00   5.7214e-01  -9.1307e-04\n",
      "  8.5663e+00   7.5714e-01   2.6842e-04\n",
      "  6.4736e+00   1.8807e-01  -1.2108e-03\n"
     ]
    }
   ],
   "source": [
    "print_out(x_test, y_interp_hermit)"
   ]
  },
  {
   "cell_type": "markdown",
   "metadata": {},
   "source": [
    "### Explanation:\n",
    "We can see that, again, in each case the error has grown by about order of magnitude (and by about 2 orders of magnitude from the initial values) - this is predictable with the table that is 4 times more sparce than the initial one. "
   ]
  }
 ],
 "metadata": {
  "kernelspec": {
   "display_name": "Python 3",
   "language": "python",
   "name": "python3"
  },
  "language_info": {
   "codemirror_mode": {
    "name": "ipython",
    "version": 3
   },
   "file_extension": ".py",
   "mimetype": "text/x-python",
   "name": "python",
   "nbconvert_exporter": "python",
   "pygments_lexer": "ipython3",
   "version": "3.11.4"
  }
 },
 "nbformat": 4,
 "nbformat_minor": 2
}
